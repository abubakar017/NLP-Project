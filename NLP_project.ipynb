{
 "cells": [
  {
   "cell_type": "code",
   "execution_count": 1,
   "id": "c39fd6c3",
   "metadata": {},
   "outputs": [
    {
     "name": "stdout",
     "output_type": "stream",
     "text": [
      "^C\n"
     ]
    }
   ],
   "source": [
    "!pip uninstall tensorflow\n",
    "\n",
    "\n"
   ]
  },
  {
   "cell_type": "code",
   "execution_count": 2,
   "id": "10bb0d69",
   "metadata": {},
   "outputs": [
    {
     "name": "stdout",
     "output_type": "stream",
     "text": [
      "Requirement already satisfied: tensorflow in c:\\users\\shahbaz\\anaconda3\\lib\\site-packages (2.16.1)\n",
      "Requirement already satisfied: tensorflow-intel==2.16.1 in c:\\users\\shahbaz\\anaconda3\\lib\\site-packages (from tensorflow) (2.16.1)\n",
      "Requirement already satisfied: six>=1.12.0 in c:\\users\\shahbaz\\anaconda3\\lib\\site-packages (from tensorflow-intel==2.16.1->tensorflow) (1.16.0)\n",
      "Requirement already satisfied: packaging in c:\\users\\shahbaz\\anaconda3\\lib\\site-packages (from tensorflow-intel==2.16.1->tensorflow) (21.3)\n",
      "Requirement already satisfied: termcolor>=1.1.0 in c:\\users\\shahbaz\\anaconda3\\lib\\site-packages (from tensorflow-intel==2.16.1->tensorflow) (2.4.0)\n",
      "Requirement already satisfied: keras>=3.0.0 in c:\\users\\shahbaz\\anaconda3\\lib\\site-packages (from tensorflow-intel==2.16.1->tensorflow) (3.3.3)\n",
      "Requirement already satisfied: tensorflow-io-gcs-filesystem>=0.23.1 in c:\\users\\shahbaz\\anaconda3\\lib\\site-packages (from tensorflow-intel==2.16.1->tensorflow) (0.31.0)\n",
      "Requirement already satisfied: numpy<2.0.0,>=1.23.5 in c:\\users\\shahbaz\\anaconda3\\lib\\site-packages (from tensorflow-intel==2.16.1->tensorflow) (1.26.4)\n",
      "Requirement already satisfied: ml-dtypes~=0.3.1 in c:\\users\\shahbaz\\anaconda3\\lib\\site-packages (from tensorflow-intel==2.16.1->tensorflow) (0.3.2)\n",
      "Requirement already satisfied: grpcio<2.0,>=1.24.3 in c:\\users\\shahbaz\\anaconda3\\lib\\site-packages (from tensorflow-intel==2.16.1->tensorflow) (1.63.0)\n",
      "Requirement already satisfied: h5py>=3.10.0 in c:\\users\\shahbaz\\anaconda3\\lib\\site-packages (from tensorflow-intel==2.16.1->tensorflow) (3.11.0)\n",
      "Requirement already satisfied: tensorboard<2.17,>=2.16 in c:\\users\\shahbaz\\anaconda3\\lib\\site-packages (from tensorflow-intel==2.16.1->tensorflow) (2.16.2)\n",
      "Requirement already satisfied: setuptools in c:\\users\\shahbaz\\anaconda3\\lib\\site-packages (from tensorflow-intel==2.16.1->tensorflow) (61.2.0)\n",
      "Requirement already satisfied: gast!=0.5.0,!=0.5.1,!=0.5.2,>=0.2.1 in c:\\users\\shahbaz\\anaconda3\\lib\\site-packages (from tensorflow-intel==2.16.1->tensorflow) (0.5.4)\n",
      "Requirement already satisfied: wrapt>=1.11.0 in c:\\users\\shahbaz\\anaconda3\\lib\\site-packages (from tensorflow-intel==2.16.1->tensorflow) (1.12.1)\n",
      "Requirement already satisfied: flatbuffers>=23.5.26 in c:\\users\\shahbaz\\anaconda3\\lib\\site-packages (from tensorflow-intel==2.16.1->tensorflow) (24.3.25)\n",
      "Requirement already satisfied: libclang>=13.0.0 in c:\\users\\shahbaz\\anaconda3\\lib\\site-packages (from tensorflow-intel==2.16.1->tensorflow) (18.1.1)\n",
      "Requirement already satisfied: protobuf!=4.21.0,!=4.21.1,!=4.21.2,!=4.21.3,!=4.21.4,!=4.21.5,<5.0.0dev,>=3.20.3 in c:\\users\\shahbaz\\anaconda3\\lib\\site-packages (from tensorflow-intel==2.16.1->tensorflow) (4.25.3)\n",
      "Requirement already satisfied: astunparse>=1.6.0 in c:\\users\\shahbaz\\anaconda3\\lib\\site-packages (from tensorflow-intel==2.16.1->tensorflow) (1.6.3)\n",
      "Requirement already satisfied: absl-py>=1.0.0 in c:\\users\\shahbaz\\anaconda3\\lib\\site-packages (from tensorflow-intel==2.16.1->tensorflow) (2.1.0)\n",
      "Requirement already satisfied: opt-einsum>=2.3.2 in c:\\users\\shahbaz\\anaconda3\\lib\\site-packages (from tensorflow-intel==2.16.1->tensorflow) (3.3.0)\n",
      "Requirement already satisfied: requests<3,>=2.21.0 in c:\\users\\shahbaz\\anaconda3\\lib\\site-packages (from tensorflow-intel==2.16.1->tensorflow) (2.27.1)\n",
      "Requirement already satisfied: typing-extensions>=3.6.6 in c:\\users\\shahbaz\\anaconda3\\lib\\site-packages (from tensorflow-intel==2.16.1->tensorflow) (4.9.0)\n",
      "Requirement already satisfied: google-pasta>=0.1.1 in c:\\users\\shahbaz\\anaconda3\\lib\\site-packages (from tensorflow-intel==2.16.1->tensorflow) (0.2.0)\n",
      "Requirement already satisfied: wheel<1.0,>=0.23.0 in c:\\users\\shahbaz\\anaconda3\\lib\\site-packages (from astunparse>=1.6.0->tensorflow-intel==2.16.1->tensorflow) (0.37.1)\n",
      "Requirement already satisfied: namex in c:\\users\\shahbaz\\anaconda3\\lib\\site-packages (from keras>=3.0.0->tensorflow-intel==2.16.1->tensorflow) (0.0.8)\n",
      "Requirement already satisfied: rich in c:\\users\\shahbaz\\anaconda3\\lib\\site-packages (from keras>=3.0.0->tensorflow-intel==2.16.1->tensorflow) (13.7.0)\n",
      "Requirement already satisfied: optree in c:\\users\\shahbaz\\anaconda3\\lib\\site-packages (from keras>=3.0.0->tensorflow-intel==2.16.1->tensorflow) (0.11.0)\n",
      "Requirement already satisfied: urllib3<1.27,>=1.21.1 in c:\\users\\shahbaz\\anaconda3\\lib\\site-packages (from requests<3,>=2.21.0->tensorflow-intel==2.16.1->tensorflow) (1.26.18)\n",
      "Requirement already satisfied: idna<4,>=2.5 in c:\\users\\shahbaz\\anaconda3\\lib\\site-packages (from requests<3,>=2.21.0->tensorflow-intel==2.16.1->tensorflow) (3.3)\n",
      "Requirement already satisfied: certifi>=2017.4.17 in c:\\users\\shahbaz\\anaconda3\\lib\\site-packages (from requests<3,>=2.21.0->tensorflow-intel==2.16.1->tensorflow) (2021.10.8)\n",
      "Requirement already satisfied: charset-normalizer~=2.0.0 in c:\\users\\shahbaz\\anaconda3\\lib\\site-packages (from requests<3,>=2.21.0->tensorflow-intel==2.16.1->tensorflow) (2.0.4)\n",
      "Requirement already satisfied: markdown>=2.6.8 in c:\\users\\shahbaz\\anaconda3\\lib\\site-packages (from tensorboard<2.17,>=2.16->tensorflow-intel==2.16.1->tensorflow) (3.3.4)\n",
      "Requirement already satisfied: werkzeug>=1.0.1 in c:\\users\\shahbaz\\anaconda3\\lib\\site-packages (from tensorboard<2.17,>=2.16->tensorflow-intel==2.16.1->tensorflow) (2.0.3)\n",
      "Requirement already satisfied: tensorboard-data-server<0.8.0,>=0.7.0 in c:\\users\\shahbaz\\anaconda3\\lib\\site-packages (from tensorboard<2.17,>=2.16->tensorflow-intel==2.16.1->tensorflow) (0.7.2)\n",
      "Requirement already satisfied: pyparsing!=3.0.5,>=2.0.2 in c:\\users\\shahbaz\\anaconda3\\lib\\site-packages (from packaging->tensorflow-intel==2.16.1->tensorflow) (3.0.4)\n",
      "Requirement already satisfied: pygments<3.0.0,>=2.13.0 in c:\\users\\shahbaz\\anaconda3\\lib\\site-packages (from rich->keras>=3.0.0->tensorflow-intel==2.16.1->tensorflow) (2.17.2)\n",
      "Requirement already satisfied: markdown-it-py>=2.2.0 in c:\\users\\shahbaz\\anaconda3\\lib\\site-packages (from rich->keras>=3.0.0->tensorflow-intel==2.16.1->tensorflow) (3.0.0)\n",
      "Requirement already satisfied: mdurl~=0.1 in c:\\users\\shahbaz\\anaconda3\\lib\\site-packages (from markdown-it-py>=2.2.0->rich->keras>=3.0.0->tensorflow-intel==2.16.1->tensorflow) (0.1.2)\n"
     ]
    }
   ],
   "source": [
    "!pip install tensorflow"
   ]
  },
  {
   "cell_type": "code",
   "execution_count": 89,
   "id": "4124e610",
   "metadata": {},
   "outputs": [
    {
     "name": "stdout",
     "output_type": "stream",
     "text": [
      "Collecting ply\n",
      "  Downloading ply-3.11-py2.py3-none-any.whl (49 kB)\n",
      "Installing collected packages: ply\n",
      "Successfully installed ply-3.11\n"
     ]
    }
   ],
   "source": [
    "!pip install  ply"
   ]
  },
  {
   "cell_type": "code",
   "execution_count": 3,
   "id": "c35bab4f",
   "metadata": {},
   "outputs": [
    {
     "name": "stderr",
     "output_type": "stream",
     "text": [
      "C:\\Users\\Shahbaz\\anaconda3\\lib\\site-packages\\scipy\\__init__.py:146: UserWarning: A NumPy version >=1.16.5 and <1.23.0 is required for this version of SciPy (detected version 1.26.4\n",
      "  warnings.warn(f\"A NumPy version >={np_minversion} and <{np_maxversion}\"\n"
     ]
    }
   ],
   "source": [
    "import tensorflow as tf\n",
    "from tensorflow.keras.preprocessing.text import Tokenizer\n",
    "from tensorflow.keras.preprocessing.sequence import pad_sequences\n",
    "from tensorflow.keras.models import Sequential\n",
    "from tensorflow.keras.layers import Embedding, LSTM, Dense, Dropout\n",
    "from keras.layers import Embedding, LSTM, Dense, SpatialDropout1D"
   ]
  },
  {
   "cell_type": "code",
   "execution_count": 4,
   "id": "f6f00225",
   "metadata": {},
   "outputs": [],
   "source": [
    "import pandas as pd\n",
    "import re\n",
    "import matplotlib.pyplot as plt\n",
    "from gensim.models import Word2Vec\n",
    "import numpy as np\n",
    "from sklearn.preprocessing import LabelEncoder\n",
    "from sklearn.model_selection import train_test_split\n",
    "from keras.optimizers import Adam\n",
    "from sklearn.ensemble import RandomForestClassifier\n",
    "from sklearn.metrics import accuracy_score, classification_report, confusion_matrix\n",
    "from keras.utils import to_categorical\n",
    "from sklearn.utils.class_weight import compute_class_weight"
   ]
  },
  {
   "cell_type": "code",
   "execution_count": 5,
   "id": "60779a97",
   "metadata": {},
   "outputs": [],
   "source": [
    "from sklearn.feature_extraction.text import CountVectorizer\n",
    "from keras.layers import Input\n"
   ]
  },
  {
   "cell_type": "code",
   "execution_count": 6,
   "id": "eaa5bfde",
   "metadata": {},
   "outputs": [
    {
     "name": "stderr",
     "output_type": "stream",
     "text": [
      "C:\\Users\\Shahbaz\\AppData\\Local\\Temp\\ipykernel_6692\\2161074731.py:1: DtypeWarning: Columns (13) have mixed types. Specify dtype option on import or set low_memory=False.\n",
      "  df = pd.read_csv('MSR_data_cleaned.csv', na_filter=False,nrows=188636)#you can set nrows to the desired value\n"
     ]
    }
   ],
   "source": [
    "df = pd.read_csv('MSR_data_cleaned.csv', na_filter=False,nrows=188636)#you can set nrows to the desired value "
   ]
  },
  {
   "cell_type": "code",
   "execution_count": null,
   "id": "b72988d3",
   "metadata": {},
   "outputs": [],
   "source": []
  },
  {
   "cell_type": "code",
   "execution_count": null,
   "id": "00dba256",
   "metadata": {},
   "outputs": [],
   "source": [
    "df.head()"
   ]
  },
  {
   "cell_type": "code",
   "execution_count": null,
   "id": "bfdeded1",
   "metadata": {},
   "outputs": [],
   "source": [
    "df.info()"
   ]
  },
  {
   "cell_type": "code",
   "execution_count": 7,
   "id": "d42c75dc",
   "metadata": {},
   "outputs": [],
   "source": [
    "df2 = df[['func_before','func_after','lines_before','lines_after','vul','vul_func_with_fix']]"
   ]
  },
  {
   "cell_type": "code",
   "execution_count": null,
   "id": "f017134d",
   "metadata": {},
   "outputs": [],
   "source": [
    "df2.head(6)"
   ]
  },
  {
   "cell_type": "markdown",
   "id": "dadd5950",
   "metadata": {
    "scrolled": true
   },
   "source": [
    "df2.info()"
   ]
  },
  {
   "cell_type": "code",
   "execution_count": 8,
   "id": "1a79ef7d",
   "metadata": {},
   "outputs": [],
   "source": [
    "from sklearn.model_selection import train_test_split"
   ]
  },
  {
   "cell_type": "code",
   "execution_count": 9,
   "id": "f64e57a1",
   "metadata": {},
   "outputs": [
    {
     "data": {
      "text/plain": [
       "76"
      ]
     },
     "execution_count": 9,
     "metadata": {},
     "output_type": "execute_result"
    }
   ],
   "source": [
    "df[\"Vulnerability Classification\"].nunique()"
   ]
  },
  {
   "cell_type": "markdown",
   "id": "8fc59bf9",
   "metadata": {},
   "source": [
    "# Multiclass Classififcation using Random forest Classifier"
   ]
  },
  {
   "cell_type": "code",
   "execution_count": null,
   "id": "4ffd9e0c",
   "metadata": {},
   "outputs": [],
   "source": [
    "df['func_after'][0]"
   ]
  },
  {
   "cell_type": "code",
   "execution_count": null,
   "id": "57df56fb",
   "metadata": {},
   "outputs": [],
   "source": [
    "df['func_before'][0]"
   ]
  },
  {
   "cell_type": "code",
   "execution_count": null,
   "id": "24a4ec9e",
   "metadata": {},
   "outputs": [],
   "source": [
    "print(df[['func_before', 'Vulnerability Classification']].tail(8))"
   ]
  },
  {
   "cell_type": "code",
   "execution_count": null,
   "id": "27fcec38",
   "metadata": {
    "scrolled": true
   },
   "outputs": [],
   "source": [
    "df['Vulnerability Classification'].unique()"
   ]
  },
  {
   "cell_type": "code",
   "execution_count": null,
   "id": "eed65022",
   "metadata": {},
   "outputs": [],
   "source": [
    "df[['Vulnerability Classification','vul']].iloc[1774]"
   ]
  },
  {
   "cell_type": "markdown",
   "id": "59a10e1e",
   "metadata": {},
   "source": [
    "Pre-processing"
   ]
  },
  {
   "cell_type": "code",
   "execution_count": 10,
   "id": "6c1eb034",
   "metadata": {},
   "outputs": [],
   "source": [
    "df['Vulnerability Classification'].replace('', 'OK', inplace=True)\n"
   ]
  },
  {
   "cell_type": "markdown",
   "id": "3ccb1ff6",
   "metadata": {},
   "source": [
    "Filling blank space with \"OK\" for better understanding of classififcation we don't mean that this blank space is labeld as ok means, we assume that it has a vulnerability that we don't know"
   ]
  },
  {
   "cell_type": "code",
   "execution_count": null,
   "id": "f4c0e538",
   "metadata": {},
   "outputs": [],
   "source": [
    "df['Vulnerability Classification'].value_counts()"
   ]
  },
  {
   "cell_type": "markdown",
   "id": "5e43c67b",
   "metadata": {},
   "source": [
    "So this means that the model biasness will be held accountable because of the \n",
    "values count. \n",
    "Now imagine if a model is trained on 80% of \"0\" class and 20% on \"1\" class the model will perform best on \"0\" class \n",
    "So here we need to compromise on the dataset"
   ]
  },
  {
   "cell_type": "markdown",
   "id": "b6e69f20",
   "metadata": {},
   "source": [
    "## Filtering C++ Code "
   ]
  },
  {
   "cell_type": "code",
   "execution_count": 11,
   "id": "375e8893",
   "metadata": {},
   "outputs": [],
   "source": [
    "cpp_func_ptrn = r'\\b(?:int|void|char|float|double)\\s+\\w+\\s*\\([^)]*\\)\\s*{'"
   ]
  },
  {
   "cell_type": "code",
   "execution_count": 12,
   "id": "de57eeb9",
   "metadata": {},
   "outputs": [],
   "source": [
    "cpp_func = df[df['func_before'].str.contains(cpp_func_ptrn)]"
   ]
  },
  {
   "cell_type": "code",
   "execution_count": 13,
   "id": "0346a223",
   "metadata": {},
   "outputs": [],
   "source": [
    "cpp_func_df = pd.DataFrame(cpp_func[['func_before', 'Vulnerability Classification']])"
   ]
  },
  {
   "cell_type": "markdown",
   "id": "8eec758f",
   "metadata": {},
   "source": [
    "Now lets see how much vulnerabilities are their in cpp code"
   ]
  },
  {
   "cell_type": "code",
   "execution_count": null,
   "id": "cf6b9db9",
   "metadata": {},
   "outputs": [],
   "source": [
    "cpp_func_df['Vulnerability Classification'].unique()"
   ]
  },
  {
   "cell_type": "code",
   "execution_count": null,
   "id": "9056da87",
   "metadata": {},
   "outputs": [],
   "source": [
    "cpp_func_df['Vulnerability Classification'].nunique()"
   ]
  },
  {
   "cell_type": "code",
   "execution_count": 2,
   "id": "5ff704ce",
   "metadata": {},
   "outputs": [
    {
     "ename": "NameError",
     "evalue": "name 'cpp_func_df' is not defined",
     "output_type": "error",
     "traceback": [
      "\u001b[1;31m---------------------------------------------------------------------------\u001b[0m",
      "\u001b[1;31mNameError\u001b[0m                                 Traceback (most recent call last)",
      "Input \u001b[1;32mIn [2]\u001b[0m, in \u001b[0;36m<cell line: 2>\u001b[1;34m()\u001b[0m\n\u001b[0;32m      1\u001b[0m \u001b[38;5;66;03m# Count classes\u001b[39;00m\n\u001b[1;32m----> 2\u001b[0m \u001b[43mcpp_func_df\u001b[49m[\u001b[38;5;124m'\u001b[39m\u001b[38;5;124mVulnerability Classification\u001b[39m\u001b[38;5;124m'\u001b[39m]\u001b[38;5;241m.\u001b[39mvalue_counts()\n",
      "\u001b[1;31mNameError\u001b[0m: name 'cpp_func_df' is not defined"
     ]
    }
   ],
   "source": [
    "# Count classes\n",
    "cpp_func_df['Vulnerability Classification'].value_counts()"
   ]
  },
  {
   "cell_type": "markdown",
   "id": "9479e25e",
   "metadata": {},
   "source": [
    "## EDA\n"
   ]
  },
  {
   "cell_type": "code",
   "execution_count": 3,
   "id": "a68313e3",
   "metadata": {},
   "outputs": [
    {
     "ename": "NameError",
     "evalue": "name 'cpp_func_df' is not defined",
     "output_type": "error",
     "traceback": [
      "\u001b[1;31m---------------------------------------------------------------------------\u001b[0m",
      "\u001b[1;31mNameError\u001b[0m                                 Traceback (most recent call last)",
      "Input \u001b[1;32mIn [3]\u001b[0m, in \u001b[0;36m<cell line: 2>\u001b[1;34m()\u001b[0m\n\u001b[0;32m      1\u001b[0m \u001b[38;5;66;03m#plot\u001b[39;00m\n\u001b[1;32m----> 2\u001b[0m \u001b[43mcpp_func_df\u001b[49m[\u001b[38;5;124m'\u001b[39m\u001b[38;5;124mVulnerability Classification\u001b[39m\u001b[38;5;124m'\u001b[39m]\u001b[38;5;241m.\u001b[39mvalue_counts()\u001b[38;5;241m.\u001b[39mplot(kind\u001b[38;5;241m=\u001b[39m\u001b[38;5;124m'\u001b[39m\u001b[38;5;124mbar\u001b[39m\u001b[38;5;124m'\u001b[39m, figsize\u001b[38;5;241m=\u001b[39m(\u001b[38;5;241m12\u001b[39m, \u001b[38;5;241m6\u001b[39m), color\u001b[38;5;241m=\u001b[39m\u001b[38;5;124m'\u001b[39m\u001b[38;5;124mskyblue\u001b[39m\u001b[38;5;124m'\u001b[39m)\n\u001b[0;32m      3\u001b[0m plt\u001b[38;5;241m.\u001b[39mtitle(\u001b[38;5;124m'\u001b[39m\u001b[38;5;124mCounts of Each Vulnerability Class\u001b[39m\u001b[38;5;124m'\u001b[39m)\n\u001b[0;32m      4\u001b[0m plt\u001b[38;5;241m.\u001b[39mxlabel(\u001b[38;5;124m'\u001b[39m\u001b[38;5;124mVulnerability Class\u001b[39m\u001b[38;5;124m'\u001b[39m)\n",
      "\u001b[1;31mNameError\u001b[0m: name 'cpp_func_df' is not defined"
     ]
    }
   ],
   "source": [
    "#plot\n",
    "cpp_func_df['Vulnerability Classification'].value_counts().plot(kind='bar', figsize=(12, 6), color='skyblue')\n",
    "plt.title('Counts of Each Vulnerability Class')\n",
    "plt.xlabel('Vulnerability Class')\n",
    "plt.ylabel('Count')\n",
    "plt.xticks(rotation=90)\n",
    "plt.grid(axis='y', linestyle='--', alpha=0.7)\n",
    "plt.tight_layout()\n",
    "plt.show()\n",
    "\n"
   ]
  },
  {
   "cell_type": "markdown",
   "id": "608e46f9",
   "metadata": {},
   "source": [
    "as we can see their can be biasness in the classification model \n",
    "for a model to perform significant accurate classifiication  "
   ]
  },
  {
   "cell_type": "code",
   "execution_count": null,
   "id": "e3c10440",
   "metadata": {},
   "outputs": [],
   "source": []
  },
  {
   "cell_type": "code",
   "execution_count": null,
   "id": "e64e2294",
   "metadata": {},
   "outputs": [],
   "source": []
  },
  {
   "cell_type": "code",
   "execution_count": 4,
   "id": "7ceed1f6",
   "metadata": {},
   "outputs": [
    {
     "name": "stdout",
     "output_type": "stream",
     "text": [
      "^C\n"
     ]
    }
   ],
   "source": [
    "\n",
    "!pip install imblearn"
   ]
  },
  {
   "cell_type": "code",
   "execution_count": 14,
   "id": "d4debf0c",
   "metadata": {},
   "outputs": [
    {
     "name": "stdout",
     "output_type": "stream",
     "text": [
      "Bypass                                  21081\n",
      "DoS Exec Code Overflow Mem. Corr.       21081\n",
      "Exec Code Sql                           21081\n",
      "DoS Overflow +Priv Mem. Corr. +Info     21081\n",
      "DoS Overflow Bypass                     21081\n",
      "                                        ...  \n",
      "Bypass                                  21081\n",
      "DoS Overflow                            21081\n",
      "Overflow                                21081\n",
      "Overflow +Priv                          21081\n",
      "Overflow Bypass +Info                   21081\n",
      "Name: Vulnerability Classification, Length: 70, dtype: int64\n"
     ]
    }
   ],
   "source": [
    "from imblearn.over_sampling import RandomOverSampler\n",
    "\n",
    "\n",
    "features = cpp_func_df['func_before'].values.reshape(-1, 1)\n",
    "target = cpp_func_df['Vulnerability Classification']\n",
    "\n",
    "# Apply RandomOverSampler\n",
    "ros = RandomOverSampler(sampling_strategy='not majority')\n",
    "X_resampled, y_resampled = ros.fit_resample(features, target)\n",
    "\n",
    "\n",
    "balanced_df = pd.DataFrame({'func_before': X_resampled.flatten(), 'Vulnerability Classification': y_resampled})\n",
    "print(balanced_df['Vulnerability Classification'].value_counts())"
   ]
  },
  {
   "cell_type": "code",
   "execution_count": 54,
   "id": "e4f1f76d",
   "metadata": {},
   "outputs": [
    {
     "data": {
      "image/png": "[encoded data removed]",
      "text/plain": [
       "<Figure size 864x432 with 1 Axes>"
      ]
     },
     "metadata": {
      "needs_background": "light"
     },
     "output_type": "display_data"
    }
   ],
   "source": [
    "#plot\n",
    "balanced_df['Vulnerability Classification'].value_counts().plot(kind='bar', figsize=(12, 6), color='skyblue')\n",
    "plt.title('Counts of Each Vulnerability Class')\n",
    "plt.xlabel('Vulnerability Class')\n",
    "plt.ylabel('Count')\n",
    "plt.xticks(rotation=90)\n",
    "plt.grid(axis='y', linestyle='--', alpha=0.7)\n",
    "plt.tight_layout()\n",
    "plt.show()\n"
   ]
  },
  {
   "cell_type": "code",
   "execution_count": 15,
   "id": "acd7514d",
   "metadata": {},
   "outputs": [],
   "source": [
    "from sklearn.feature_extraction.text import TfidfVectorizer\n",
    "from sklearn.neighbors import NearestNeighbors"
   ]
  },
  {
   "cell_type": "code",
   "execution_count": 51,
   "id": "ac1b488f",
   "metadata": {},
   "outputs": [
    {
     "name": "stderr",
     "output_type": "stream",
     "text": [
      "C:\\Users\\Shahbaz\\anaconda3\\lib\\site-packages\\sklearn\\neighbors\\_base.py:504: UserWarning: cannot use tree with sparse input: using brute force\n",
      "  warnings.warn(\"cannot use tree with sparse input: using brute force\")\n"
     ]
    },
    {
     "ename": "KeyboardInterrupt",
     "evalue": "",
     "output_type": "error",
     "traceback": [
      "\u001b[1;31m---------------------------------------------------------------------------\u001b[0m",
      "\u001b[1;31mKeyboardInterrupt\u001b[0m                         Traceback (most recent call last)",
      "Input \u001b[1;32mIn [51]\u001b[0m, in \u001b[0;36m<cell line: 10>\u001b[1;34m()\u001b[0m\n\u001b[0;32m      8\u001b[0m \u001b[38;5;66;03m# Find the nearest neighbors for the vulnerable code\u001b[39;00m\n\u001b[0;32m      9\u001b[0m vulnerable_indices \u001b[38;5;241m=\u001b[39m balanced_df[balanced_df[\u001b[38;5;124m'\u001b[39m\u001b[38;5;124mVulnerability Classification\u001b[39m\u001b[38;5;124m'\u001b[39m] \u001b[38;5;241m!=\u001b[39m \u001b[38;5;124m'\u001b[39m\u001b[38;5;124mOK\u001b[39m\u001b[38;5;124m'\u001b[39m]\u001b[38;5;241m.\u001b[39mindex\n\u001b[1;32m---> 10\u001b[0m distances, indices \u001b[38;5;241m=\u001b[39m \u001b[43mnn\u001b[49m\u001b[38;5;241;43m.\u001b[39;49m\u001b[43mkneighbors\u001b[49m\u001b[43m(\u001b[49m\u001b[43mX_tfidf\u001b[49m\u001b[43m[\u001b[49m\u001b[43mvulnerable_indices\u001b[49m\u001b[43m]\u001b[49m\u001b[43m)\u001b[49m\n\u001b[0;32m     12\u001b[0m \u001b[38;5;66;03m# Select top-ranked code as vulnerable\u001b[39;00m\n\u001b[0;32m     13\u001b[0m top_vulnerable_indices \u001b[38;5;241m=\u001b[39m indices\u001b[38;5;241m.\u001b[39mflatten()\n",
      "File \u001b[1;32m~\\anaconda3\\lib\\site-packages\\sklearn\\neighbors\\_base.py:752\u001b[0m, in \u001b[0;36mKNeighborsMixin.kneighbors\u001b[1;34m(self, X, n_neighbors, return_distance)\u001b[0m\n\u001b[0;32m    749\u001b[0m     \u001b[38;5;28;01melse\u001b[39;00m:\n\u001b[0;32m    750\u001b[0m         kwds \u001b[38;5;241m=\u001b[39m \u001b[38;5;28mself\u001b[39m\u001b[38;5;241m.\u001b[39meffective_metric_params_\n\u001b[1;32m--> 752\u001b[0m     chunked_results \u001b[38;5;241m=\u001b[39m \u001b[38;5;28;43mlist\u001b[39;49m\u001b[43m(\u001b[49m\n\u001b[0;32m    753\u001b[0m \u001b[43m        \u001b[49m\u001b[43mpairwise_distances_chunked\u001b[49m\u001b[43m(\u001b[49m\n\u001b[0;32m    754\u001b[0m \u001b[43m            \u001b[49m\u001b[43mX\u001b[49m\u001b[43m,\u001b[49m\n\u001b[0;32m    755\u001b[0m \u001b[43m            \u001b[49m\u001b[38;5;28;43mself\u001b[39;49m\u001b[38;5;241;43m.\u001b[39;49m\u001b[43m_fit_X\u001b[49m\u001b[43m,\u001b[49m\n\u001b[0;32m    756\u001b[0m \u001b[43m            \u001b[49m\u001b[43mreduce_func\u001b[49m\u001b[38;5;241;43m=\u001b[39;49m\u001b[43mreduce_func\u001b[49m\u001b[43m,\u001b[49m\n\u001b[0;32m    757\u001b[0m \u001b[43m            \u001b[49m\u001b[43mmetric\u001b[49m\u001b[38;5;241;43m=\u001b[39;49m\u001b[38;5;28;43mself\u001b[39;49m\u001b[38;5;241;43m.\u001b[39;49m\u001b[43meffective_metric_\u001b[49m\u001b[43m,\u001b[49m\n\u001b[0;32m    758\u001b[0m \u001b[43m            \u001b[49m\u001b[43mn_jobs\u001b[49m\u001b[38;5;241;43m=\u001b[39;49m\u001b[43mn_jobs\u001b[49m\u001b[43m,\u001b[49m\n\u001b[0;32m    759\u001b[0m \u001b[43m            \u001b[49m\u001b[38;5;241;43m*\u001b[39;49m\u001b[38;5;241;43m*\u001b[39;49m\u001b[43mkwds\u001b[49m\u001b[43m,\u001b[49m\n\u001b[0;32m    760\u001b[0m \u001b[43m        \u001b[49m\u001b[43m)\u001b[49m\n\u001b[0;32m    761\u001b[0m \u001b[43m    \u001b[49m\u001b[43m)\u001b[49m\n\u001b[0;32m    763\u001b[0m \u001b[38;5;28;01melif\u001b[39;00m \u001b[38;5;28mself\u001b[39m\u001b[38;5;241m.\u001b[39m_fit_method \u001b[38;5;129;01min\u001b[39;00m [\u001b[38;5;124m\"\u001b[39m\u001b[38;5;124mball_tree\u001b[39m\u001b[38;5;124m\"\u001b[39m, \u001b[38;5;124m\"\u001b[39m\u001b[38;5;124mkd_tree\u001b[39m\u001b[38;5;124m\"\u001b[39m]:\n\u001b[0;32m    764\u001b[0m     \u001b[38;5;28;01mif\u001b[39;00m issparse(X):\n",
      "File \u001b[1;32m~\\anaconda3\\lib\\site-packages\\sklearn\\metrics\\pairwise.py:1717\u001b[0m, in \u001b[0;36mpairwise_distances_chunked\u001b[1;34m(X, Y, reduce_func, metric, n_jobs, working_memory, **kwds)\u001b[0m\n\u001b[0;32m   1715\u001b[0m \u001b[38;5;28;01melse\u001b[39;00m:\n\u001b[0;32m   1716\u001b[0m     X_chunk \u001b[38;5;241m=\u001b[39m X[sl]\n\u001b[1;32m-> 1717\u001b[0m D_chunk \u001b[38;5;241m=\u001b[39m pairwise_distances(X_chunk, Y, metric\u001b[38;5;241m=\u001b[39mmetric, n_jobs\u001b[38;5;241m=\u001b[39mn_jobs, \u001b[38;5;241m*\u001b[39m\u001b[38;5;241m*\u001b[39mkwds)\n\u001b[0;32m   1718\u001b[0m \u001b[38;5;28;01mif\u001b[39;00m (X \u001b[38;5;129;01mis\u001b[39;00m Y \u001b[38;5;129;01mor\u001b[39;00m Y \u001b[38;5;129;01mis\u001b[39;00m \u001b[38;5;28;01mNone\u001b[39;00m) \u001b[38;5;129;01mand\u001b[39;00m PAIRWISE_DISTANCE_FUNCTIONS\u001b[38;5;241m.\u001b[39mget(\n\u001b[0;32m   1719\u001b[0m     metric, \u001b[38;5;28;01mNone\u001b[39;00m\n\u001b[0;32m   1720\u001b[0m ) \u001b[38;5;129;01mis\u001b[39;00m euclidean_distances:\n\u001b[0;32m   1721\u001b[0m     \u001b[38;5;66;03m# zeroing diagonal, taking care of aliases of \"euclidean\",\u001b[39;00m\n\u001b[0;32m   1722\u001b[0m     \u001b[38;5;66;03m# i.e. \"l2\"\u001b[39;00m\n\u001b[0;32m   1723\u001b[0m     D_chunk\u001b[38;5;241m.\u001b[39mflat[sl\u001b[38;5;241m.\u001b[39mstart :: _num_samples(X) \u001b[38;5;241m+\u001b[39m \u001b[38;5;241m1\u001b[39m] \u001b[38;5;241m=\u001b[39m \u001b[38;5;241m0\u001b[39m\n",
      "File \u001b[1;32m~\\anaconda3\\lib\\site-packages\\sklearn\\metrics\\pairwise.py:1889\u001b[0m, in \u001b[0;36mpairwise_distances\u001b[1;34m(X, Y, metric, n_jobs, force_all_finite, **kwds)\u001b[0m\n\u001b[0;32m   1886\u001b[0m         \u001b[38;5;28;01mreturn\u001b[39;00m distance\u001b[38;5;241m.\u001b[39msquareform(distance\u001b[38;5;241m.\u001b[39mpdist(X, metric\u001b[38;5;241m=\u001b[39mmetric, \u001b[38;5;241m*\u001b[39m\u001b[38;5;241m*\u001b[39mkwds))\n\u001b[0;32m   1887\u001b[0m     func \u001b[38;5;241m=\u001b[39m partial(distance\u001b[38;5;241m.\u001b[39mcdist, metric\u001b[38;5;241m=\u001b[39mmetric, \u001b[38;5;241m*\u001b[39m\u001b[38;5;241m*\u001b[39mkwds)\n\u001b[1;32m-> 1889\u001b[0m \u001b[38;5;28;01mreturn\u001b[39;00m _parallel_pairwise(X, Y, func, n_jobs, \u001b[38;5;241m*\u001b[39m\u001b[38;5;241m*\u001b[39mkwds)\n",
      "File \u001b[1;32m~\\anaconda3\\lib\\site-packages\\sklearn\\metrics\\pairwise.py:1430\u001b[0m, in \u001b[0;36m_parallel_pairwise\u001b[1;34m(X, Y, func, n_jobs, **kwds)\u001b[0m\n\u001b[0;32m   1427\u001b[0m X, Y, dtype \u001b[38;5;241m=\u001b[39m _return_float_dtype(X, Y)\n\u001b[0;32m   1429\u001b[0m \u001b[38;5;28;01mif\u001b[39;00m effective_n_jobs(n_jobs) \u001b[38;5;241m==\u001b[39m \u001b[38;5;241m1\u001b[39m:\n\u001b[1;32m-> 1430\u001b[0m     \u001b[38;5;28;01mreturn\u001b[39;00m func(X, Y, \u001b[38;5;241m*\u001b[39m\u001b[38;5;241m*\u001b[39mkwds)\n\u001b[0;32m   1432\u001b[0m \u001b[38;5;66;03m# enforce a threading backend to prevent data communication overhead\u001b[39;00m\n\u001b[0;32m   1433\u001b[0m fd \u001b[38;5;241m=\u001b[39m delayed(_dist_wrapper)\n",
      "File \u001b[1;32m~\\anaconda3\\lib\\site-packages\\sklearn\\metrics\\pairwise.py:330\u001b[0m, in \u001b[0;36meuclidean_distances\u001b[1;34m(X, Y, Y_norm_squared, squared, X_norm_squared)\u001b[0m\n\u001b[0;32m    324\u001b[0m     \u001b[38;5;28;01mif\u001b[39;00m Y_norm_squared\u001b[38;5;241m.\u001b[39mshape \u001b[38;5;241m!=\u001b[39m (\u001b[38;5;241m1\u001b[39m, Y\u001b[38;5;241m.\u001b[39mshape[\u001b[38;5;241m0\u001b[39m]):\n\u001b[0;32m    325\u001b[0m         \u001b[38;5;28;01mraise\u001b[39;00m \u001b[38;5;167;01mValueError\u001b[39;00m(\n\u001b[0;32m    326\u001b[0m             \u001b[38;5;124mf\u001b[39m\u001b[38;5;124m\"\u001b[39m\u001b[38;5;124mIncompatible dimensions for Y of shape \u001b[39m\u001b[38;5;132;01m{\u001b[39;00mY\u001b[38;5;241m.\u001b[39mshape\u001b[38;5;132;01m}\u001b[39;00m\u001b[38;5;124m and \u001b[39m\u001b[38;5;124m\"\u001b[39m\n\u001b[0;32m    327\u001b[0m             \u001b[38;5;124mf\u001b[39m\u001b[38;5;124m\"\u001b[39m\u001b[38;5;124mY_norm_squared of shape \u001b[39m\u001b[38;5;132;01m{\u001b[39;00moriginal_shape\u001b[38;5;132;01m}\u001b[39;00m\u001b[38;5;124m.\u001b[39m\u001b[38;5;124m\"\u001b[39m\n\u001b[0;32m    328\u001b[0m         )\n\u001b[1;32m--> 330\u001b[0m \u001b[38;5;28;01mreturn\u001b[39;00m \u001b[43m_euclidean_distances\u001b[49m\u001b[43m(\u001b[49m\u001b[43mX\u001b[49m\u001b[43m,\u001b[49m\u001b[43m \u001b[49m\u001b[43mY\u001b[49m\u001b[43m,\u001b[49m\u001b[43m \u001b[49m\u001b[43mX_norm_squared\u001b[49m\u001b[43m,\u001b[49m\u001b[43m \u001b[49m\u001b[43mY_norm_squared\u001b[49m\u001b[43m,\u001b[49m\u001b[43m \u001b[49m\u001b[43msquared\u001b[49m\u001b[43m)\u001b[49m\n",
      "File \u001b[1;32m~\\anaconda3\\lib\\site-packages\\sklearn\\metrics\\pairwise.py:371\u001b[0m, in \u001b[0;36m_euclidean_distances\u001b[1;34m(X, Y, X_norm_squared, Y_norm_squared, squared)\u001b[0m\n\u001b[0;32m    368\u001b[0m     distances \u001b[38;5;241m=\u001b[39m _euclidean_distances_upcast(X, XX, Y, YY)\n\u001b[0;32m    369\u001b[0m \u001b[38;5;28;01melse\u001b[39;00m:\n\u001b[0;32m    370\u001b[0m     \u001b[38;5;66;03m# if dtype is already float64, no need to chunk and upcast\u001b[39;00m\n\u001b[1;32m--> 371\u001b[0m     distances \u001b[38;5;241m=\u001b[39m \u001b[38;5;241m-\u001b[39m\u001b[38;5;241m2\u001b[39m \u001b[38;5;241m*\u001b[39m \u001b[43msafe_sparse_dot\u001b[49m\u001b[43m(\u001b[49m\u001b[43mX\u001b[49m\u001b[43m,\u001b[49m\u001b[43m \u001b[49m\u001b[43mY\u001b[49m\u001b[38;5;241;43m.\u001b[39;49m\u001b[43mT\u001b[49m\u001b[43m,\u001b[49m\u001b[43m \u001b[49m\u001b[43mdense_output\u001b[49m\u001b[38;5;241;43m=\u001b[39;49m\u001b[38;5;28;43;01mTrue\u001b[39;49;00m\u001b[43m)\u001b[49m\n\u001b[0;32m    372\u001b[0m     distances \u001b[38;5;241m+\u001b[39m\u001b[38;5;241m=\u001b[39m XX\n\u001b[0;32m    373\u001b[0m     distances \u001b[38;5;241m+\u001b[39m\u001b[38;5;241m=\u001b[39m YY\n",
      "File \u001b[1;32m~\\anaconda3\\lib\\site-packages\\sklearn\\utils\\extmath.py:153\u001b[0m, in \u001b[0;36msafe_sparse_dot\u001b[1;34m(a, b, dense_output)\u001b[0m\n\u001b[0;32m    151\u001b[0m         ret \u001b[38;5;241m=\u001b[39m np\u001b[38;5;241m.\u001b[39mdot(a, b)\n\u001b[0;32m    152\u001b[0m \u001b[38;5;28;01melse\u001b[39;00m:\n\u001b[1;32m--> 153\u001b[0m     ret \u001b[38;5;241m=\u001b[39m \u001b[43ma\u001b[49m\u001b[43m \u001b[49m\u001b[38;5;241;43m@\u001b[39;49m\u001b[43m \u001b[49m\u001b[43mb\u001b[49m\n\u001b[0;32m    155\u001b[0m \u001b[38;5;28;01mif\u001b[39;00m (\n\u001b[0;32m    156\u001b[0m     sparse\u001b[38;5;241m.\u001b[39missparse(a)\n\u001b[0;32m    157\u001b[0m     \u001b[38;5;129;01mand\u001b[39;00m sparse\u001b[38;5;241m.\u001b[39missparse(b)\n\u001b[0;32m    158\u001b[0m     \u001b[38;5;129;01mand\u001b[39;00m dense_output\n\u001b[0;32m    159\u001b[0m     \u001b[38;5;129;01mand\u001b[39;00m \u001b[38;5;28mhasattr\u001b[39m(ret, \u001b[38;5;124m\"\u001b[39m\u001b[38;5;124mtoarray\u001b[39m\u001b[38;5;124m\"\u001b[39m)\n\u001b[0;32m    160\u001b[0m ):\n\u001b[0;32m    161\u001b[0m     \u001b[38;5;28;01mreturn\u001b[39;00m ret\u001b[38;5;241m.\u001b[39mtoarray()\n",
      "File \u001b[1;32m~\\anaconda3\\lib\\site-packages\\scipy\\sparse\\base.py:560\u001b[0m, in \u001b[0;36mspmatrix.__matmul__\u001b[1;34m(self, other)\u001b[0m\n\u001b[0;32m    557\u001b[0m \u001b[38;5;28;01mif\u001b[39;00m isscalarlike(other):\n\u001b[0;32m    558\u001b[0m     \u001b[38;5;28;01mraise\u001b[39;00m \u001b[38;5;167;01mValueError\u001b[39;00m(\u001b[38;5;124m\"\u001b[39m\u001b[38;5;124mScalar operands are not allowed, \u001b[39m\u001b[38;5;124m\"\u001b[39m\n\u001b[0;32m    559\u001b[0m                      \u001b[38;5;124m\"\u001b[39m\u001b[38;5;124muse \u001b[39m\u001b[38;5;124m'\u001b[39m\u001b[38;5;124m*\u001b[39m\u001b[38;5;124m'\u001b[39m\u001b[38;5;124m instead\u001b[39m\u001b[38;5;124m\"\u001b[39m)\n\u001b[1;32m--> 560\u001b[0m \u001b[38;5;28;01mreturn\u001b[39;00m \u001b[38;5;28;43mself\u001b[39;49m\u001b[38;5;241;43m.\u001b[39;49m\u001b[38;5;21;43m__mul__\u001b[39;49m\u001b[43m(\u001b[49m\u001b[43mother\u001b[49m\u001b[43m)\u001b[49m\n",
      "File \u001b[1;32m~\\anaconda3\\lib\\site-packages\\scipy\\sparse\\base.py:480\u001b[0m, in \u001b[0;36mspmatrix.__mul__\u001b[1;34m(self, other)\u001b[0m\n\u001b[0;32m    478\u001b[0m     \u001b[38;5;28;01mif\u001b[39;00m \u001b[38;5;28mself\u001b[39m\u001b[38;5;241m.\u001b[39mshape[\u001b[38;5;241m1\u001b[39m] \u001b[38;5;241m!=\u001b[39m other\u001b[38;5;241m.\u001b[39mshape[\u001b[38;5;241m0\u001b[39m]:\n\u001b[0;32m    479\u001b[0m         \u001b[38;5;28;01mraise\u001b[39;00m \u001b[38;5;167;01mValueError\u001b[39;00m(\u001b[38;5;124m'\u001b[39m\u001b[38;5;124mdimension mismatch\u001b[39m\u001b[38;5;124m'\u001b[39m)\n\u001b[1;32m--> 480\u001b[0m     \u001b[38;5;28;01mreturn\u001b[39;00m \u001b[38;5;28;43mself\u001b[39;49m\u001b[38;5;241;43m.\u001b[39;49m\u001b[43m_mul_sparse_matrix\u001b[49m\u001b[43m(\u001b[49m\u001b[43mother\u001b[49m\u001b[43m)\u001b[49m\n\u001b[0;32m    482\u001b[0m \u001b[38;5;66;03m# If it's a list or whatever, treat it like a matrix\u001b[39;00m\n\u001b[0;32m    483\u001b[0m other_a \u001b[38;5;241m=\u001b[39m np\u001b[38;5;241m.\u001b[39masanyarray(other)\n",
      "File \u001b[1;32m~\\anaconda3\\lib\\site-packages\\scipy\\sparse\\compressed.py:522\u001b[0m, in \u001b[0;36m_cs_matrix._mul_sparse_matrix\u001b[1;34m(self, other)\u001b[0m\n\u001b[0;32m    519\u001b[0m data \u001b[38;5;241m=\u001b[39m np\u001b[38;5;241m.\u001b[39mempty(nnz, dtype\u001b[38;5;241m=\u001b[39mupcast(\u001b[38;5;28mself\u001b[39m\u001b[38;5;241m.\u001b[39mdtype, other\u001b[38;5;241m.\u001b[39mdtype))\n\u001b[0;32m    521\u001b[0m fn \u001b[38;5;241m=\u001b[39m \u001b[38;5;28mgetattr\u001b[39m(_sparsetools, \u001b[38;5;28mself\u001b[39m\u001b[38;5;241m.\u001b[39mformat \u001b[38;5;241m+\u001b[39m \u001b[38;5;124m'\u001b[39m\u001b[38;5;124m_matmat\u001b[39m\u001b[38;5;124m'\u001b[39m)\n\u001b[1;32m--> 522\u001b[0m \u001b[43mfn\u001b[49m\u001b[43m(\u001b[49m\u001b[43mM\u001b[49m\u001b[43m,\u001b[49m\u001b[43m \u001b[49m\u001b[43mN\u001b[49m\u001b[43m,\u001b[49m\u001b[43m \u001b[49m\u001b[43mnp\u001b[49m\u001b[38;5;241;43m.\u001b[39;49m\u001b[43masarray\u001b[49m\u001b[43m(\u001b[49m\u001b[38;5;28;43mself\u001b[39;49m\u001b[38;5;241;43m.\u001b[39;49m\u001b[43mindptr\u001b[49m\u001b[43m,\u001b[49m\u001b[43m \u001b[49m\u001b[43mdtype\u001b[49m\u001b[38;5;241;43m=\u001b[39;49m\u001b[43midx_dtype\u001b[49m\u001b[43m)\u001b[49m\u001b[43m,\u001b[49m\n\u001b[0;32m    523\u001b[0m \u001b[43m   \u001b[49m\u001b[43mnp\u001b[49m\u001b[38;5;241;43m.\u001b[39;49m\u001b[43masarray\u001b[49m\u001b[43m(\u001b[49m\u001b[38;5;28;43mself\u001b[39;49m\u001b[38;5;241;43m.\u001b[39;49m\u001b[43mindices\u001b[49m\u001b[43m,\u001b[49m\u001b[43m \u001b[49m\u001b[43mdtype\u001b[49m\u001b[38;5;241;43m=\u001b[39;49m\u001b[43midx_dtype\u001b[49m\u001b[43m)\u001b[49m\u001b[43m,\u001b[49m\n\u001b[0;32m    524\u001b[0m \u001b[43m   \u001b[49m\u001b[38;5;28;43mself\u001b[39;49m\u001b[38;5;241;43m.\u001b[39;49m\u001b[43mdata\u001b[49m\u001b[43m,\u001b[49m\n\u001b[0;32m    525\u001b[0m \u001b[43m   \u001b[49m\u001b[43mnp\u001b[49m\u001b[38;5;241;43m.\u001b[39;49m\u001b[43masarray\u001b[49m\u001b[43m(\u001b[49m\u001b[43mother\u001b[49m\u001b[38;5;241;43m.\u001b[39;49m\u001b[43mindptr\u001b[49m\u001b[43m,\u001b[49m\u001b[43m \u001b[49m\u001b[43mdtype\u001b[49m\u001b[38;5;241;43m=\u001b[39;49m\u001b[43midx_dtype\u001b[49m\u001b[43m)\u001b[49m\u001b[43m,\u001b[49m\n\u001b[0;32m    526\u001b[0m \u001b[43m   \u001b[49m\u001b[43mnp\u001b[49m\u001b[38;5;241;43m.\u001b[39;49m\u001b[43masarray\u001b[49m\u001b[43m(\u001b[49m\u001b[43mother\u001b[49m\u001b[38;5;241;43m.\u001b[39;49m\u001b[43mindices\u001b[49m\u001b[43m,\u001b[49m\u001b[43m \u001b[49m\u001b[43mdtype\u001b[49m\u001b[38;5;241;43m=\u001b[39;49m\u001b[43midx_dtype\u001b[49m\u001b[43m)\u001b[49m\u001b[43m,\u001b[49m\n\u001b[0;32m    527\u001b[0m \u001b[43m   \u001b[49m\u001b[43mother\u001b[49m\u001b[38;5;241;43m.\u001b[39;49m\u001b[43mdata\u001b[49m\u001b[43m,\u001b[49m\n\u001b[0;32m    528\u001b[0m \u001b[43m   \u001b[49m\u001b[43mindptr\u001b[49m\u001b[43m,\u001b[49m\u001b[43m \u001b[49m\u001b[43mindices\u001b[49m\u001b[43m,\u001b[49m\u001b[43m \u001b[49m\u001b[43mdata\u001b[49m\u001b[43m)\u001b[49m\n\u001b[0;32m    530\u001b[0m \u001b[38;5;28;01mreturn\u001b[39;00m \u001b[38;5;28mself\u001b[39m\u001b[38;5;241m.\u001b[39m\u001b[38;5;18m__class__\u001b[39m((data, indices, indptr), shape\u001b[38;5;241m=\u001b[39m(M, N))\n",
      "\u001b[1;31mKeyboardInterrupt\u001b[0m: "
     ]
    }
   ],
   "source": [
    "vectorizer = TfidfVectorizer()\n",
    "X_tfidf = vectorizer.fit_transform(balanced_df['func_before'])\n",
    "\n",
    "nn = NearestNeighbors(n_neighbors=5, algorithm='ball_tree')\n",
    "nn.fit(X_tfidf)\n",
    "\n",
    "\n",
    "vulnerable_indices = balanced_df[balanced_df['Vulnerability Classification'] != 'OK'].index\n",
    "distances, indices = nn.kneighbors(X_tfidf[vulnerable_indices])\n",
    "\n",
    "\n",
    "top_vulnerable_indices = indices.flatten()\n",
    "top_vulnerable_codes = balanced_df.iloc[top_vulnerable_indices]\n",
    "\n",
    "print(top_vulnerable_codes)"
   ]
  },
  {
   "cell_type": "markdown",
   "id": "3b0c856a",
   "metadata": {},
   "source": [
    "## Pre-processing"
   ]
  },
  {
   "cell_type": "markdown",
   "id": "bb89b0a5",
   "metadata": {},
   "source": [
    "Removing tags ( /n, /t )\n",
    "for better tokenization"
   ]
  },
  {
   "cell_type": "markdown",
   "id": "036a2c28",
   "metadata": {},
   "source": [
    "testing "
   ]
  },
  {
   "cell_type": "code",
   "execution_count": 25,
   "id": "a1c8393d",
   "metadata": {},
   "outputs": [
    {
     "name": "stdout",
     "output_type": "stream",
     "text": [
      "static int samldb_add_entry(struct samldb_ctx *ac) {  struct ldb_context                      *ldb;  struct ldb_request *req;  int ret;   ldb = ldb_module_get_ctx(ac->module);   ret                     = ldb_build_add_req(&req, ldb, ac,     ac->msg,     ac->req->controls,     ac,                      samldb_add_entry_callback,     ac->req);  LDB_REQ_SET_LOCATION(req);  if (ret != LDB_SUCCESS)                      {   return ret;  }   return ldb_next_request(ac->module, req); } \n"
     ]
    }
   ],
   "source": [
    "string = '''static int samldb_add_entry(struct samldb_ctx *ac)\\n{\\n\\tstruct ldb_context \n",
    "                    *ldb;\\n\\tstruct ldb_request *req;\\n\\tint ret;\\n\\n\\tldb = ldb_module_get_ctx(ac->module);\\n\\n\\tret\n",
    "                    = ldb_build_add_req(&req, ldb, ac,\\n\\t\\t\\t\\tac->msg,\\n\\t\\t\\t\\tac->req->controls,\\n\\t\\t\\t\\tac, \n",
    "                    samldb_add_entry_callback,\\n\\t\\t\\t\\tac->req);\\n\\tLDB_REQ_SET_LOCATION(req);\\n\\tif (ret != LDB_SUCCESS) \n",
    "                    {\\n\\t\\treturn ret;\\n\\t}\\n\\n\\treturn ldb_next_request(ac->module, req);\\n}\\n'''\n",
    "\n",
    "# Remove tags\n",
    "string_cleaned = string.replace('\\n', ' ').replace('\\t', ' ')\n",
    "\n",
    "print(string_cleaned)"
   ]
  },
  {
   "cell_type": "code",
   "execution_count": 26,
   "id": "7a930d5e",
   "metadata": {},
   "outputs": [
    {
     "name": "stdout",
     "output_type": "stream",
     "text": [
      "{'ldb': 1, 'ac': 2, 'req': 3, 'ret': 4, 'samldb': 5, 'add': 6, 'struct': 7, 'module': 8, 'int': 9, 'entry': 10, 'ctx': 11, 'request': 12, 'return': 13, 'static': 14, 'context': 15, 'get': 16, 'build': 17, 'msg': 18, 'controls': 19, 'callback': 20, 'set': 21, 'location': 22, 'if': 23, 'success': 24, 'next': 25}\n"
     ]
    }
   ],
   "source": [
    "tokenizer = Tokenizer()\n",
    "tokenizer.fit_on_texts([string_cleaned])\n",
    "\n",
    "print(tokenizer.word_index)"
   ]
  },
  {
   "cell_type": "markdown",
   "id": "8c2a741a",
   "metadata": {},
   "source": [
    "### Here we can se we do not want english tokenizer ,\n",
    "#### we need cpp lexer which will parse the code in symantic way"
   ]
  },
  {
   "cell_type": "code",
   "execution_count": 20,
   "id": "42d247a3",
   "metadata": {},
   "outputs": [],
   "source": [
    "def clean_string(func_string):\n",
    "    # Remove newline /n and tab /t characters\n",
    "    func_string_cleaned = re.sub(r'[\\n\\t]', ' ', func_string)\n",
    "    return func_string_cleaned\n",
    "\n",
    "\n"
   ]
  },
  {
   "cell_type": "code",
   "execution_count": 21,
   "id": "f9f81a47",
   "metadata": {},
   "outputs": [],
   "source": [
    "balanced_df['func_before'] = balanced_df['func_before'].apply(clean_string)"
   ]
  },
  {
   "cell_type": "code",
   "execution_count": 58,
   "id": "c2d39946",
   "metadata": {},
   "outputs": [
    {
     "data": {
      "text/html": [
       "<div>\n",
       "<style scoped>\n",
       "    .dataframe tbody tr th:only-of-type {\n",
       "        vertical-align: middle;\n",
       "    }\n",
       "\n",
       "    .dataframe tbody tr th {\n",
       "        vertical-align: top;\n",
       "    }\n",
       "\n",
       "    .dataframe thead th {\n",
       "        text-align: right;\n",
       "    }\n",
       "</style>\n",
       "<table border=\"1\" class=\"dataframe\">\n",
       "  <thead>\n",
       "    <tr style=\"text-align: right;\">\n",
       "      <th></th>\n",
       "      <th>func_before</th>\n",
       "      <th>Vulnerability Classification</th>\n",
       "    </tr>\n",
       "  </thead>\n",
       "  <tbody>\n",
       "    <tr>\n",
       "      <th>count</th>\n",
       "      <td>1475670</td>\n",
       "      <td>1475670</td>\n",
       "    </tr>\n",
       "    <tr>\n",
       "      <th>unique</th>\n",
       "      <td>61336</td>\n",
       "      <td>70</td>\n",
       "    </tr>\n",
       "    <tr>\n",
       "      <th>top</th>\n",
       "      <td>int gx_device_delete_output_file(const gx_devi...</td>\n",
       "      <td>Bypass</td>\n",
       "    </tr>\n",
       "    <tr>\n",
       "      <th>freq</th>\n",
       "      <td>21081</td>\n",
       "      <td>21081</td>\n",
       "    </tr>\n",
       "  </tbody>\n",
       "</table>\n",
       "</div>"
      ],
      "text/plain": [
       "                                              func_before  \\\n",
       "count                                             1475670   \n",
       "unique                                              61336   \n",
       "top     int gx_device_delete_output_file(const gx_devi...   \n",
       "freq                                                21081   \n",
       "\n",
       "       Vulnerability Classification  \n",
       "count                       1475670  \n",
       "unique                           70  \n",
       "top                          Bypass  \n",
       "freq                          21081  "
      ]
     },
     "execution_count": 58,
     "metadata": {},
     "output_type": "execute_result"
    }
   ],
   "source": [
    "balanced_df.describe()"
   ]
  },
  {
   "cell_type": "markdown",
   "id": "a88fc78b",
   "metadata": {},
   "source": [
    "Find max length for embeddig layer "
   ]
  },
  {
   "cell_type": "code",
   "execution_count": 18,
   "id": "e75828a9",
   "metadata": {},
   "outputs": [
    {
     "name": "stdout",
     "output_type": "stream",
     "text": [
      "Maximum sequence length: 240969\n"
     ]
    }
   ],
   "source": [
    " max_length = max(len(seq) for seq in balanced_df['func_before'])\n",
    "\n",
    "print(\"Maximum sequence length:\", max_length)"
   ]
  },
  {
   "cell_type": "code",
   "execution_count": null,
   "id": "39703939",
   "metadata": {},
   "outputs": [],
   "source": []
  },
  {
   "cell_type": "markdown",
   "id": "68ee3483",
   "metadata": {},
   "source": [
    "### Custom Lexer for C++"
   ]
  },
  {
   "cell_type": "code",
   "execution_count": null,
   "id": "8acde701",
   "metadata": {},
   "outputs": [],
   "source": [
    "\n",
    "def cpp_tokenizer(code):\n",
    "    # regex patterns for various token types\n",
    "    token_specification = [\n",
    "        ('KEYWORD', r'\\b(?:void|int|float|if|else|return|for|while|cout)\\b'),  # Keywords\n",
    "        ('IDENTIFIER', r'\\b[A-Za-z_][A-Za-z_0-9]*\\b'),  # Identifiers\n",
    "        ('NUMBER', r'\\b\\d+\\b'),  # Integer literals\n",
    "        ('OPERATOR', r'[+\\-*/=<>!]+'),  # Operators\n",
    "        ('DELIMITER', r'[{}();,]'),  # Delimiters\n",
    "        ('WHITESPACE', r'\\s+'),  # Whitespace (ignored)\n",
    "        ('OTHER', r'.'),  # Any other character\n",
    "    ]\n",
    "    \n",
    "    tok_regex = '|'.join('(?P<%s>%s)' % pair for pair in token_specification)\n",
    "    tokens = []\n",
    "    for mo in re.finditer(tok_regex, code):\n",
    "        kind = mo.lastgroup\n",
    "        value = mo.group(kind)\n",
    "        if kind != 'WHITESPACE':\n",
    "            tokens.append(value)\n",
    "    return tokens\n",
    "\n",
    "balanced_df['tokens'] = balanced_df['func_before'].apply(cpp_tokenizer)\n"
   ]
  },
  {
   "cell_type": "code",
   "execution_count": null,
   "id": "ddd7a63f",
   "metadata": {},
   "outputs": [],
   "source": [
    "balanced_df['tokens']"
   ]
  },
  {
   "cell_type": "code",
   "execution_count": null,
   "id": "696d343e",
   "metadata": {},
   "outputs": [],
   "source": [
    "sequence_lengths = balanced_df['tokens'].apply(len)\n",
    "\n",
    "\n",
    "# Plot sequence length \n",
    "plt.hist(sequence_lengths, bins=50)\n",
    "plt.xlabel('Sequence Length')\n",
    "plt.ylabel('Frequency')\n",
    "plt.title('Sequence Length Distribution')\n",
    "plt.show()\n",
    "\n",
    "max_len = min(200, sequence_lengths.quantile(0.95))  # Cover 95% of sequences\n",
    "print(f\"Max length: {max_len}\")"
   ]
  },
  {
   "cell_type": "markdown",
   "id": "e5ec86e0",
   "metadata": {},
   "source": [
    "## word2vec Matrix"
   ]
  },
  {
   "cell_type": "code",
   "execution_count": null,
   "id": "5553913b",
   "metadata": {},
   "outputs": [],
   "source": [
    "\n",
    "word2vec_model = Word2Vec(sentences=balanced_df['tokens'], vector_size=128, window=5, min_count=1, workers=4)\n",
    "word2vec_model.save(\"word2vec_cpp.model\")"
   ]
  },
  {
   "cell_type": "code",
   "execution_count": null,
   "id": "0a5d7dc8",
   "metadata": {},
   "outputs": [],
   "source": [
    "max_features = 20000  \n",
    "max_len = 200   \n",
    "tokenizer = Tokenizer(num_words=max_features, lower=False, split=' ')\n",
    "tokenizer.fit_on_texts(balanced_df['tokens'].apply(lambda x: ' '.join(x)))\n"
   ]
  },
  {
   "cell_type": "code",
   "execution_count": null,
   "id": "8ce26677",
   "metadata": {},
   "outputs": [],
   "source": [
    "word_index = tokenizer.word_index"
   ]
  },
  {
   "cell_type": "markdown",
   "id": "da18bbde",
   "metadata": {},
   "source": [
    "Embedding matrix "
   ]
  },
  {
   "cell_type": "code",
   "execution_count": null,
   "id": "10bb9529",
   "metadata": {},
   "outputs": [],
   "source": [
    "\n",
    "embedding_dim = 128\n",
    "embedding_matrix = np.zeros((len(word_index) + 1, embedding_dim))\n",
    "\n",
    "for word, i in word_index.items():\n",
    "    if word in word2vec_model.wv:\n",
    "        embedding_matrix[i] = word2vec_model.wv[word]\n",
    "    else:\n",
    "        embedding_matrix[i] = np.random.randn(embedding_dim)"
   ]
  },
  {
   "cell_type": "markdown",
   "id": "5bae717c",
   "metadata": {},
   "source": [
    "### Padding"
   ]
  },
  {
   "cell_type": "code",
   "execution_count": null,
   "id": "499b9d6e",
   "metadata": {},
   "outputs": [],
   "source": [
    "\n",
    "X = tokenizer.texts_to_sequences(balanced_df['tokens'].apply(lambda x: ' '.join(x)))\n",
    "X = pad_sequences(X, maxlen=max_len)\n"
   ]
  },
  {
   "cell_type": "code",
   "execution_count": null,
   "id": "fe525e8f",
   "metadata": {},
   "outputs": [],
   "source": [
    "num_classes = 70"
   ]
  },
  {
   "cell_type": "markdown",
   "id": "33dec0ff",
   "metadata": {},
   "source": [
    "label endocding on y "
   ]
  },
  {
   "cell_type": "code",
   "execution_count": null,
   "id": "5af9d916",
   "metadata": {},
   "outputs": [],
   "source": [
    "y = balanced_df['Vulnerability Classification']\n",
    "\n",
    "label_encoder = LabelEncoder()\n",
    "y_encoded = label_encoder.fit_transform(y)\n",
    "y = y_encoded\n",
    "y = to_categorical(y_encoded, num_classes=num_classes)\n"
   ]
  },
  {
   "cell_type": "markdown",
   "id": "915a6bcc",
   "metadata": {},
   "source": [
    "### Train on 10% and Test on 90% "
   ]
  },
  {
   "cell_type": "code",
   "execution_count": 34,
   "id": "66308a1a",
   "metadata": {},
   "outputs": [],
   "source": [
    "X_train, X_test, y_train, y_test = train_test_split(X, y, test_size=0.9, random_state=42)"
   ]
  },
  {
   "cell_type": "code",
   "execution_count": null,
   "id": "8f8aebe0",
   "metadata": {},
   "outputs": [],
   "source": []
  },
  {
   "cell_type": "code",
   "execution_count": null,
   "id": "c43c7641",
   "metadata": {},
   "outputs": [],
   "source": []
  },
  {
   "cell_type": "code",
   "execution_count": null,
   "id": "77fd5f7e",
   "metadata": {},
   "outputs": [],
   "source": []
  },
  {
   "cell_type": "code",
   "execution_count": null,
   "id": "378b5759",
   "metadata": {},
   "outputs": [],
   "source": []
  },
  {
   "cell_type": "code",
   "execution_count": null,
   "id": "05cd09da",
   "metadata": {},
   "outputs": [],
   "source": []
  },
  {
   "cell_type": "code",
   "execution_count": null,
   "id": "83061623",
   "metadata": {},
   "outputs": [],
   "source": []
  },
  {
   "cell_type": "code",
   "execution_count": null,
   "id": "9c6aa8a6",
   "metadata": {},
   "outputs": [],
   "source": []
  },
  {
   "cell_type": "code",
   "execution_count": null,
   "id": "a18e8a87",
   "metadata": {},
   "outputs": [],
   "source": []
  },
  {
   "cell_type": "code",
   "execution_count": null,
   "id": "3b697343",
   "metadata": {},
   "outputs": [],
   "source": []
  },
  {
   "cell_type": "code",
   "execution_count": null,
   "id": "90c95a97",
   "metadata": {},
   "outputs": [],
   "source": []
  },
  {
   "cell_type": "code",
   "execution_count": 32,
   "id": "4cafcab9",
   "metadata": {},
   "outputs": [
    {
     "name": "stderr",
     "output_type": "stream",
     "text": [
      "C:\\Users\\Shahbaz\\anaconda3\\lib\\site-packages\\keras\\src\\layers\\core\\embedding.py:90: UserWarning: Argument `input_length` is deprecated. Just remove it.\n",
      "  warnings.warn(\n"
     ]
    }
   ],
   "source": [
    "# Build the LSTM model\n",
    "model = Sequential()\n",
    "model.add(Embedding(input_dim=len(word_index) + 1,\n",
    "                    output_dim=embedding_dim,\n",
    "                    weights=[embedding_matrix],\n",
    "                    input_length=max_len,\n",
    "                    trainable=False))\n",
    "model.add(SpatialDropout1D(0.2))\n",
    "model.add(LSTM(200, dropout=0.2, recurrent_dropout=0.2))\n",
    "model.add(Dense(50, activation='relu'))\n",
    "model.add(Dense(num_classes, activation='softmax'))"
   ]
  },
  {
   "cell_type": "code",
   "execution_count": 33,
   "id": "9788158f",
   "metadata": {},
   "outputs": [],
   "source": [
    "model.compile(loss='categorical_crossentropy', optimizer=Adam(learning_rate=0.002), metrics=['accuracy'])\n"
   ]
  },
  {
   "cell_type": "code",
   "execution_count": 63,
   "id": "672254b3",
   "metadata": {},
   "outputs": [
    {
     "name": "stdout",
     "output_type": "stream",
     "text": [
      "Epoch 1/15\n",
      "192/192 - 83s - 434ms/step - accuracy: 0.3497 - loss: 2.5360\n",
      "Epoch 2/15\n",
      "192/192 - 80s - 418ms/step - accuracy: 0.3821 - loss: 2.3166\n",
      "Epoch 3/15\n",
      "192/192 - 109s - 568ms/step - accuracy: 0.3929 - loss: 2.2239\n",
      "Epoch 4/15\n",
      "192/192 - 92s - 481ms/step - accuracy: 0.4041 - loss: 2.1359\n",
      "Epoch 5/15\n",
      "192/192 - 74s - 384ms/step - accuracy: 0.4284 - loss: 2.0433\n",
      "Epoch 6/15\n",
      "192/192 - 73s - 381ms/step - accuracy: 0.4384 - loss: 1.9703\n",
      "Epoch 7/15\n",
      "192/192 - 70s - 365ms/step - accuracy: 0.4620 - loss: 1.8877\n",
      "Epoch 8/15\n",
      "192/192 - 74s - 384ms/step - accuracy: 0.4682 - loss: 1.8180\n",
      "Epoch 9/15\n",
      "192/192 - 74s - 386ms/step - accuracy: 0.4843 - loss: 1.7286\n",
      "Epoch 10/15\n",
      "192/192 - 71s - 368ms/step - accuracy: 0.5067 - loss: 1.6675\n",
      "Epoch 11/15\n",
      "192/192 - 77s - 402ms/step - accuracy: 0.5132 - loss: 1.6090\n",
      "Epoch 12/15\n",
      "192/192 - 74s - 385ms/step - accuracy: 0.5337 - loss: 1.5431\n",
      "Epoch 13/15\n",
      "192/192 - 73s - 379ms/step - accuracy: 0.5527 - loss: 1.4809\n",
      "Epoch 14/15\n",
      "192/192 - 72s - 375ms/step - accuracy: 0.5683 - loss: 1.4094\n",
      "Epoch 15/15\n",
      "192/192 - 73s - 379ms/step - accuracy: 0.5740 - loss: 1.3730\n"
     ]
    },
    {
     "data": {
      "text/plain": [
       "<keras.src.callbacks.history.History at 0x19f325fdd00>"
      ]
     },
     "execution_count": 63,
     "metadata": {},
     "output_type": "execute_result"
    }
   ],
   "source": [
    "model.fit(X_train, y_train, epochs=15, batch_size=32, verbose=2)"
   ]
  },
  {
   "cell_type": "code",
   "execution_count": 64,
   "id": "891490b8",
   "metadata": {},
   "outputs": [
    {
     "name": "stdout",
     "output_type": "stream",
     "text": [
      "\u001b[1m1726/1726\u001b[0m \u001b[32m━━━━━━━━━━━━━━━━━━━━\u001b[0m\u001b[37m\u001b[0m \u001b[1m241s\u001b[0m 139ms/step\n"
     ]
    }
   ],
   "source": [
    "unlabeled_data = X_test  \n",
    "predictions = model.predict(unlabeled_data)\n",
    "predicted_labels = np.argmax(predictions, axis=1)\n",
    "confidence_scores = np.max(predictions, axis=1)"
   ]
  },
  {
   "cell_type": "code",
   "execution_count": 65,
   "id": "dab89ecb",
   "metadata": {},
   "outputs": [],
   "source": [
    "confidence_threshold = 0.9\n",
    "confident_indices = np.where(confidence_scores > confidence_threshold)[0]"
   ]
  },
  {
   "cell_type": "markdown",
   "id": "0b00a003",
   "metadata": {},
   "source": [
    "## Semi-Supervised learning"
   ]
  },
  {
   "cell_type": "code",
   "execution_count": 66,
   "id": "c5aae046",
   "metadata": {},
   "outputs": [],
   "source": [
    "X_augmented = np.concatenate([X_train, unlabeled_data[confident_indices]])\n",
    "y_augmented = np.concatenate([y_train, to_categorical(predicted_labels[confident_indices], num_classes)])"
   ]
  },
  {
   "cell_type": "code",
   "execution_count": 67,
   "id": "93bad237",
   "metadata": {},
   "outputs": [
    {
     "name": "stdout",
     "output_type": "stream",
     "text": [
      "Epoch 1/15\n",
      "368/368 - 152s - 413ms/step - accuracy: 0.7690 - loss: 0.7752\n",
      "Epoch 2/15\n",
      "368/368 - 130s - 355ms/step - accuracy: 0.7759 - loss: 0.7407\n",
      "Epoch 3/15\n",
      "368/368 - 152s - 413ms/step - accuracy: 0.7846 - loss: 0.7154\n",
      "Epoch 4/15\n",
      "368/368 - 130s - 354ms/step - accuracy: 0.7865 - loss: 0.7003\n",
      "Epoch 5/15\n",
      "368/368 - 135s - 366ms/step - accuracy: 0.7878 - loss: 0.6975\n",
      "Epoch 6/15\n",
      "368/368 - 131s - 357ms/step - accuracy: 0.7921 - loss: 0.6753\n",
      "Epoch 7/15\n",
      "368/368 - 134s - 365ms/step - accuracy: 0.7973 - loss: 0.6540\n",
      "Epoch 8/15\n",
      "368/368 - 141s - 384ms/step - accuracy: 0.8004 - loss: 0.6361\n",
      "Epoch 9/15\n",
      "368/368 - 135s - 367ms/step - accuracy: 0.8070 - loss: 0.6231\n",
      "Epoch 10/15\n",
      "368/368 - 134s - 365ms/step - accuracy: 0.7984 - loss: 0.6321\n",
      "Epoch 11/15\n",
      "368/368 - 143s - 389ms/step - accuracy: 0.8130 - loss: 0.5914\n",
      "Epoch 12/15\n",
      "368/368 - 126s - 342ms/step - accuracy: 0.8151 - loss: 0.5902\n",
      "Epoch 13/15\n",
      "368/368 - 117s - 319ms/step - accuracy: 0.8172 - loss: 0.5754\n",
      "Epoch 14/15\n",
      "368/368 - 144s - 391ms/step - accuracy: 0.8191 - loss: 0.5735\n",
      "Epoch 15/15\n",
      "368/368 - 116s - 315ms/step - accuracy: 0.8229 - loss: 0.5712\n"
     ]
    },
    {
     "data": {
      "text/plain": [
       "<keras.src.callbacks.history.History at 0x19f3636a700>"
      ]
     },
     "execution_count": 67,
     "metadata": {},
     "output_type": "execute_result"
    }
   ],
   "source": [
    "model.fit(X_augmented, y_augmented, epochs=15, batch_size=32, verbose=2)"
   ]
  },
  {
   "cell_type": "markdown",
   "id": "e9a153b6",
   "metadata": {},
   "source": [
    "till here do it with 19 epochs before augumentation and 10 after aug"
   ]
  },
  {
   "cell_type": "markdown",
   "id": "ce764929",
   "metadata": {},
   "source": [
    "### extractiong features for rbf"
   ]
  },
  {
   "cell_type": "code",
   "execution_count": 68,
   "id": "bc5334ce",
   "metadata": {},
   "outputs": [
    {
     "name": "stdout",
     "output_type": "stream",
     "text": [
      "\u001b[1m368/368\u001b[0m \u001b[32m━━━━━━━━━━━━━━━━━━━━\u001b[0m\u001b[37m\u001b[0m \u001b[1m47s\u001b[0m 127ms/step\n",
      "\u001b[1m1726/1726\u001b[0m \u001b[32m━━━━━━━━━━━━━━━━━━━━\u001b[0m\u001b[37m\u001b[0m \u001b[1m233s\u001b[0m 135ms/step\n"
     ]
    }
   ],
   "source": [
    "# Extract features using the trained LSTM model\n",
    "feature_extractor = Sequential(model.layers[:-2])\n",
    "X_train_features = feature_extractor.predict(X_augmented)\n",
    "X_test_features = feature_extractor.predict(X_test)"
   ]
  },
  {
   "cell_type": "code",
   "execution_count": 69,
   "id": "138bf25a",
   "metadata": {},
   "outputs": [],
   "source": [
    "# Converting back to integers \n",
    "y_train_rf = np.argmax(y_augmented, axis=1)\n",
    "y_test_rf = np.argmax(y_test, axis=1)"
   ]
  },
  {
   "cell_type": "code",
   "execution_count": 70,
   "id": "5c1d5148",
   "metadata": {},
   "outputs": [],
   "source": [
    "#consistent number of samples\n",
    "min_samples = min(X_train_features.shape[0], y_train_rf.shape[0])\n",
    "X_train_features = X_train_features[:min_samples]\n",
    "y_train_rf = y_train_rf[:min_samples]\n"
   ]
  },
  {
   "cell_type": "code",
   "execution_count": 71,
   "id": "f893a6d6",
   "metadata": {},
   "outputs": [],
   "source": [
    "rf_classifier = RandomForestClassifier(n_estimators=512, random_state=42,class_weight='balanced')"
   ]
  },
  {
   "cell_type": "code",
   "execution_count": 72,
   "id": "db6b4913",
   "metadata": {},
   "outputs": [
    {
     "data": {
      "text/plain": [
       "RandomForestClassifier(class_weight='balanced', n_estimators=512,\n",
       "                       random_state=42)"
      ]
     },
     "execution_count": 72,
     "metadata": {},
     "output_type": "execute_result"
    }
   ],
   "source": [
    "rf_classifier.fit(X_train_features, y_train_rf)"
   ]
  },
  {
   "cell_type": "code",
   "execution_count": 73,
   "id": "f5ac96e8",
   "metadata": {},
   "outputs": [],
   "source": [
    "y_pred_rf = rf_classifier.predict(X_test_features)"
   ]
  },
  {
   "cell_type": "code",
   "execution_count": 74,
   "id": "fbf845cc",
   "metadata": {},
   "outputs": [
    {
     "name": "stdout",
     "output_type": "stream",
     "text": [
      "Random Forest Classifier Accuracy: 0.45083763470071536\n"
     ]
    }
   ],
   "source": [
    "# Evaluate the model\n",
    "accuracy = accuracy_score(y_test_rf, y_pred_rf)\n",
    "print(f'Random Forest Classifier Accuracy: {accuracy}')\n",
    "\n"
   ]
  },
  {
   "cell_type": "code",
   "execution_count": 198,
   "id": "47f8a75b",
   "metadata": {},
   "outputs": [
    {
     "name": "stdout",
     "output_type": "stream",
     "text": [
      "Confusion Matrix\n",
      "[[ 11   0   0 ...   0   0   0]\n",
      " [  0 415   0 ...   0   0   0]\n",
      " [  0   0   0 ...   0   0   0]\n",
      " ...\n",
      " [  0   0   0 ...   0   0   0]\n",
      " [  0   0   0 ...   0   0   0]\n",
      " [  0   0   0 ...   0   0   4]]\n"
     ]
    }
   ],
   "source": [
    "print('Confusion Matrix')\n",
    "print(confusion_matrix(y_test_rf, y_pred_rf))\n"
   ]
  },
  {
   "cell_type": "code",
   "execution_count": 199,
   "id": "abc32c86",
   "metadata": {},
   "outputs": [
    {
     "name": "stdout",
     "output_type": "stream",
     "text": [
      "Classification Report\n",
      "              precision    recall  f1-score   support\n",
      "\n",
      "           0       0.15      0.03      0.05       360\n",
      "           1       0.46      0.11      0.18      3656\n",
      "           2       0.00      0.00      0.00         5\n",
      "           3       0.37      0.04      0.07      1266\n",
      "           4       0.00      0.00      0.00        12\n",
      "           5       1.00      0.02      0.04        99\n",
      "           6       0.81      0.18      0.30       160\n",
      "           7       0.59      0.08      0.13      1024\n",
      "           8       0.20      0.02      0.03       129\n",
      "           9       0.00      0.00      0.00         3\n",
      "          10       0.00      0.00      0.00        86\n",
      "          11       0.52      0.33      0.41      2070\n",
      "          12       0.44      0.87      0.58     15285\n",
      "          13       0.00      0.00      0.00         3\n",
      "          14       0.44      0.09      0.16       552\n",
      "          15       0.34      0.03      0.05      1273\n",
      "          16       0.27      0.01      0.03       206\n",
      "          17       0.29      0.02      0.03       122\n",
      "          18       0.66      0.19      0.29       228\n",
      "          19       0.38      0.07      0.12       451\n",
      "          20       1.00      0.17      0.29         6\n",
      "          21       0.32      0.06      0.09       269\n",
      "          22       0.68      0.38      0.49       530\n",
      "          23       0.00      0.00      0.00        25\n",
      "          24       0.00      0.00      0.00       109\n",
      "          25       0.00      0.00      0.00        11\n",
      "          26       0.48      0.04      0.08       235\n",
      "          27       0.56      0.02      0.05       362\n",
      "          28       0.45      0.11      0.18      3367\n",
      "          29       0.00      0.00      0.00        19\n",
      "          30       0.44      0.14      0.21        51\n",
      "          31       0.30      0.05      0.08       433\n",
      "          32       0.00      0.00      0.00         9\n",
      "          33       0.83      0.09      0.16       110\n",
      "          34       1.00      0.04      0.08        25\n",
      "          35       0.00      0.00      0.00         6\n",
      "          36       0.67      0.05      0.09       160\n",
      "          37       0.36      0.03      0.06       747\n",
      "          38       0.00      0.00      0.00        26\n",
      "          39       0.46      0.04      0.07       170\n",
      "          40       0.67      0.03      0.05       446\n",
      "          41       0.00      0.00      0.00         1\n",
      "          42       0.00      0.00      0.00        11\n",
      "          43       0.00      0.00      0.00         1\n",
      "          44       0.00      0.00      0.00        23\n",
      "          45       0.00      0.00      0.00         6\n",
      "          46       0.80      0.02      0.04       219\n",
      "          47       0.50      0.02      0.04       749\n",
      "          48       0.00      0.00      0.00        22\n",
      "          49       1.00      0.04      0.08        24\n",
      "          50       1.00      0.15      0.26        20\n",
      "          51       0.00      0.00      0.00        44\n",
      "          52       0.41      0.53      0.46      6604\n",
      "          53       0.43      0.07      0.12       225\n",
      "          54       0.35      0.03      0.06      1037\n",
      "          55       0.00      0.00      0.00         4\n",
      "          56       0.50      0.01      0.03        77\n",
      "          57       0.63      0.10      0.18       259\n",
      "          58       0.00      0.00      0.00         8\n",
      "          59       0.50      0.03      0.05        37\n",
      "          60       1.00      0.01      0.02       125\n",
      "          61       0.00      0.00      0.00         9\n",
      "          62       0.00      0.00      0.00         3\n",
      "          63       0.67      0.11      0.19        36\n",
      "\n",
      "    accuracy                           0.44     43650\n",
      "   macro avg       0.36      0.07      0.09     43650\n",
      "weighted avg       0.44      0.44      0.35     43650\n",
      "\n"
     ]
    },
    {
     "name": "stderr",
     "output_type": "stream",
     "text": [
      "C:\\Users\\Shahbaz\\anaconda3\\lib\\site-packages\\sklearn\\metrics\\_classification.py:1318: UndefinedMetricWarning: Precision and F-score are ill-defined and being set to 0.0 in labels with no predicted samples. Use `zero_division` parameter to control this behavior.\n",
      "  _warn_prf(average, modifier, msg_start, len(result))\n",
      "C:\\Users\\Shahbaz\\anaconda3\\lib\\site-packages\\sklearn\\metrics\\_classification.py:1318: UndefinedMetricWarning: Precision and F-score are ill-defined and being set to 0.0 in labels with no predicted samples. Use `zero_division` parameter to control this behavior.\n",
      "  _warn_prf(average, modifier, msg_start, len(result))\n",
      "C:\\Users\\Shahbaz\\anaconda3\\lib\\site-packages\\sklearn\\metrics\\_classification.py:1318: UndefinedMetricWarning: Precision and F-score are ill-defined and being set to 0.0 in labels with no predicted samples. Use `zero_division` parameter to control this behavior.\n",
      "  _warn_prf(average, modifier, msg_start, len(result))\n"
     ]
    }
   ],
   "source": [
    "print('Classification Report')\n",
    "print(classification_report(y_test_rf, y_pred_rf))"
   ]
  },
  {
   "cell_type": "markdown",
   "id": "1566f732",
   "metadata": {},
   "source": [
    "## BOW (bag of words)"
   ]
  },
  {
   "cell_type": "code",
   "execution_count": 85,
   "id": "fd251ea8",
   "metadata": {},
   "outputs": [],
   "source": [
    "max_features= 3000\n",
    "max_len=100\n",
    "# bag-of-words vectors\n",
    "vectorizer = CountVectorizer(max_features=max_features)\n",
    "vectorizer.fit(cpp_func_df['tokens'].apply(lambda x: ' '.join(x)))\n",
    "X_bow = vectorizer.transform(cpp_func_df['tokens'].apply(lambda x: ' '.join(x)))\n",
    "\n",
    "# Split into labeled and unlabeled sets\n",
    "X_labeled, X_unlabeled, y_labeled, _ = train_test_split(X_bow, y, test_size=0.9, random_state=42)\n",
    "\n",
    "# Split labeled data into training and validation sets\n",
    "X_train, X_val, y_train, y_val = train_test_split(X_labeled, y_labeled, test_size=0.1, random_state=42)\n",
    "\n"
   ]
  },
  {
   "cell_type": "code",
   "execution_count": 86,
   "id": "b3920270",
   "metadata": {},
   "outputs": [],
   "source": [
    "# LSTM model\n",
    "model = Sequential()\n",
    "model.add(Embedding(input_dim=X_bow.shape[1],  # Vocabulary size\n",
    "                    output_dim=embedding_dim,\n",
    "                    input_length=max_len))  # Maximum length of input sequences\n",
    "model.add(SpatialDropout1D(0.2))\n",
    "model.add(LSTM(100, dropout=0.2, recurrent_dropout=0.2))\n",
    "model.add(Dense(50, activation='relu'))\n",
    "model.add(Dense(num_classes, activation='softmax'))\n",
    "\n",
    "model.compile(loss='categorical_crossentropy', optimizer='adam', metrics=['accuracy'])\n"
   ]
  },
  {
   "cell_type": "code",
   "execution_count": 87,
   "id": "1dc5eda4",
   "metadata": {},
   "outputs": [
    {
     "name": "stdout",
     "output_type": "stream",
     "text": [
      "Epoch 1/5\n",
      "173/173 - 738s - 4s/step - accuracy: 0.3373 - loss: 2.7170\n",
      "Epoch 2/5\n",
      "173/173 - 817s - 5s/step - accuracy: 0.3446 - loss: 2.4985\n",
      "Epoch 3/5\n",
      "173/173 - 874s - 5s/step - accuracy: 0.3446 - loss: 2.4971\n",
      "Epoch 4/5\n",
      "173/173 - 30560s - 177s/step - accuracy: 0.3446 - loss: 2.4907\n",
      "Epoch 5/5\n",
      "173/173 - 798s - 5s/step - accuracy: 0.3446 - loss: 2.4941\n"
     ]
    },
    {
     "data": {
      "text/plain": [
       "<keras.src.callbacks.history.History at 0x19f32f3b1c0>"
      ]
     },
     "execution_count": 87,
     "metadata": {},
     "output_type": "execute_result"
    }
   ],
   "source": [
    "\n",
    "model.fit(X_train, y_train, epochs=5, batch_size=32, verbose=2)\n",
    "\n"
   ]
  },
  {
   "cell_type": "code",
   "execution_count": 80,
   "id": "6ce4f839",
   "metadata": {},
   "outputs": [
    {
     "name": "stdout",
     "output_type": "stream",
     "text": [
      "\u001b[1m1726/1726\u001b[0m \u001b[32m━━━━━━━━━━━━━━━━━━━━\u001b[0m\u001b[37m\u001b[0m \u001b[1m2787s\u001b[0m 2s/step\n"
     ]
    }
   ],
   "source": [
    "predictions_unlabeled = model.predict(X_unlabeled)\n",
    "predicted_labels_unlabeled = np.argmax(predictions_unlabeled, axis=1)\n",
    "confidence_scores_unlabeled = np.max(predictions_unlabeled, axis=1)\n",
    "\n"
   ]
  },
  {
   "cell_type": "code",
   "execution_count": 90,
   "id": "1e857095",
   "metadata": {},
   "outputs": [],
   "source": [
    "confidence_threshold = 0.5\n",
    "confident_indices = np.where(confidence_scores_unlabeled > confidence_threshold)[0]\n",
    "\n"
   ]
  },
  {
   "cell_type": "code",
   "execution_count": 91,
   "id": "0146218a",
   "metadata": {},
   "outputs": [],
   "source": [
    "if confident_indices.size > 0:\n",
    "    X_augmented = np.concatenate([X_train, X_unlabeled[confident_indices]])\n",
    "    y_augmented = np.concatenate([y_train, to_categorical(predicted_labels_unlabeled[confident_indices], num_classes)])\n",
    "else:\n",
    "    X_augmented = X_train\n",
    "    y_augmented = y_train"
   ]
  },
  {
   "cell_type": "code",
   "execution_count": 92,
   "id": "3f24d6b2",
   "metadata": {},
   "outputs": [
    {
     "name": "stdout",
     "output_type": "stream",
     "text": [
      "Epoch 1/5\n",
      "173/173 - 585s - 3s/step - accuracy: 0.3446 - loss: 2.4949\n",
      "Epoch 2/5\n",
      "173/173 - 576s - 3s/step - accuracy: 0.3446 - loss: 2.4926\n",
      "Epoch 3/5\n",
      "173/173 - 573s - 3s/step - accuracy: 0.3446 - loss: 2.4930\n",
      "Epoch 4/5\n",
      "173/173 - 19031s - 110s/step - accuracy: 0.3446 - loss: 2.4921\n",
      "Epoch 5/5\n",
      "173/173 - 616s - 4s/step - accuracy: 0.3446 - loss: 2.4900\n"
     ]
    },
    {
     "data": {
      "text/plain": [
       "<keras.src.callbacks.history.History at 0x19f33484040>"
      ]
     },
     "execution_count": 92,
     "metadata": {},
     "output_type": "execute_result"
    }
   ],
   "source": [
    "\n",
    "# LSTM model with augmented training set\n",
    "model.fit(X_augmented, y_augmented, epochs=5, batch_size=32, verbose=2)\n"
   ]
  },
  {
   "cell_type": "markdown",
   "id": "73f29085",
   "metadata": {},
   "source": [
    "# TF/IDF"
   ]
  },
  {
   "cell_type": "code",
   "execution_count": 117,
   "id": "a2c8939d",
   "metadata": {},
   "outputs": [],
   "source": [
    "from sklearn.feature_extraction.text import TfidfVectorizer\n",
    "from sklearn.decomposition import TruncatedSVD"
   ]
  },
  {
   "cell_type": "code",
   "execution_count": 113,
   "id": "fec2ee70",
   "metadata": {},
   "outputs": [],
   "source": [
    "tfidf_vectorizer = TfidfVectorizer(max_features=1000)"
   ]
  },
  {
   "cell_type": "code",
   "execution_count": 98,
   "id": "04c55175",
   "metadata": {},
   "outputs": [],
   "source": [
    "cpp_func_df['joined_tokens'] = cpp_func_df['tokens'].apply(lambda x: ' '.join(x))"
   ]
  },
  {
   "cell_type": "code",
   "execution_count": 115,
   "id": "bc7397b3",
   "metadata": {},
   "outputs": [],
   "source": [
    "tfidf_vectorizer = TfidfVectorizer(max_features=2000)  # Reduced number of features\n",
    "X_tfidf_sparse = tfidf_vectorizer.fit_transform(cpp_func_df['joined_tokens'])\n"
   ]
  },
  {
   "cell_type": "code",
   "execution_count": 118,
   "id": "b0b1ea6b",
   "metadata": {},
   "outputs": [],
   "source": [
    "n_components = 100 \n",
    "svd = TruncatedSVD(n_components=n_components, random_state=42)\n",
    "X_reduced = svd.fit_transform(X_tfidf_sparse)"
   ]
  },
  {
   "cell_type": "code",
   "execution_count": null,
   "id": "978fe7eb",
   "metadata": {},
   "outputs": [],
   "source": [
    "\n"
   ]
  },
  {
   "cell_type": "code",
   "execution_count": 119,
   "id": "7c476784",
   "metadata": {},
   "outputs": [],
   "source": [
    "X_train, X_test, y_train, y_test = train_test_split(X_reduced, y, test_size=0.9, random_state=42)\n"
   ]
  },
  {
   "cell_type": "code",
   "execution_count": 123,
   "id": "ea6ee9a0",
   "metadata": {},
   "outputs": [],
   "source": [
    "model = Sequential()\n",
    "model.add(Input(shape=(X_train.shape[1],)))  # Input layer\n",
    "model.add(Dense(128, activation='relu'))  # Fully connected layer\n",
    "model.add(Dropout(0.2))  # Add dropout for regularization\n",
    "model.add(Dense(50, activation='relu'))  # Fully connected layer\n",
    "model.add(Dropout(0.2))  # Add another dropout for regularization\n",
    "model.add(Dense(num_classes, activation='softmax'))  # Output layer"
   ]
  },
  {
   "cell_type": "code",
   "execution_count": 124,
   "id": "52791a75",
   "metadata": {},
   "outputs": [],
   "source": [
    "history= model.compile(loss='categorical_crossentropy', optimizer=Adam(learning_rate=0.001), metrics=['accuracy'])\n"
   ]
  },
  {
   "cell_type": "code",
   "execution_count": 126,
   "id": "d3b04307",
   "metadata": {},
   "outputs": [
    {
     "name": "stdout",
     "output_type": "stream",
     "text": [
      "Epoch 1/50\n",
      "192/192 - 1s - 3ms/step - accuracy: 0.4498 - loss: 1.8309\n",
      "Epoch 2/50\n",
      "192/192 - 1s - 3ms/step - accuracy: 0.4540 - loss: 1.8293\n",
      "Epoch 3/50\n",
      "192/192 - 1s - 3ms/step - accuracy: 0.4620 - loss: 1.8190\n",
      "Epoch 4/50\n",
      "192/192 - 1s - 3ms/step - accuracy: 0.4550 - loss: 1.8078\n",
      "Epoch 5/50\n",
      "192/192 - 1s - 3ms/step - accuracy: 0.4638 - loss: 1.7968\n",
      "Epoch 6/50\n",
      "192/192 - 1s - 3ms/step - accuracy: 0.4591 - loss: 1.7892\n",
      "Epoch 7/50\n",
      "192/192 - 1s - 3ms/step - accuracy: 0.4573 - loss: 1.7830\n",
      "Epoch 8/50\n",
      "192/192 - 1s - 4ms/step - accuracy: 0.4664 - loss: 1.7651\n",
      "Epoch 9/50\n",
      "192/192 - 1s - 6ms/step - accuracy: 0.4685 - loss: 1.7677\n",
      "Epoch 10/50\n",
      "192/192 - 1s - 3ms/step - accuracy: 0.4700 - loss: 1.7532\n",
      "Epoch 11/50\n",
      "192/192 - 1s - 3ms/step - accuracy: 0.4628 - loss: 1.7449\n",
      "Epoch 12/50\n",
      "192/192 - 1s - 3ms/step - accuracy: 0.4791 - loss: 1.7347\n",
      "Epoch 13/50\n",
      "192/192 - 1s - 3ms/step - accuracy: 0.4674 - loss: 1.7370\n",
      "Epoch 14/50\n",
      "192/192 - 1s - 3ms/step - accuracy: 0.4764 - loss: 1.7299\n",
      "Epoch 15/50\n",
      "192/192 - 1s - 3ms/step - accuracy: 0.4755 - loss: 1.7185\n",
      "Epoch 16/50\n",
      "192/192 - 1s - 3ms/step - accuracy: 0.4811 - loss: 1.7033\n",
      "Epoch 17/50\n",
      "192/192 - 1s - 3ms/step - accuracy: 0.4777 - loss: 1.7123\n",
      "Epoch 18/50\n",
      "192/192 - 1s - 3ms/step - accuracy: 0.4778 - loss: 1.6968\n",
      "Epoch 19/50\n",
      "192/192 - 1s - 3ms/step - accuracy: 0.4790 - loss: 1.7009\n",
      "Epoch 20/50\n",
      "192/192 - 1s - 3ms/step - accuracy: 0.4793 - loss: 1.6985\n",
      "Epoch 21/50\n",
      "192/192 - 1s - 3ms/step - accuracy: 0.4904 - loss: 1.6744\n",
      "Epoch 22/50\n",
      "192/192 - 1s - 3ms/step - accuracy: 0.4865 - loss: 1.6727\n",
      "Epoch 23/50\n",
      "192/192 - 1s - 3ms/step - accuracy: 0.4891 - loss: 1.6589\n",
      "Epoch 24/50\n",
      "192/192 - 1s - 3ms/step - accuracy: 0.4863 - loss: 1.6667\n",
      "Epoch 25/50\n",
      "192/192 - 1s - 3ms/step - accuracy: 0.4888 - loss: 1.6640\n",
      "Epoch 26/50\n",
      "192/192 - 1s - 3ms/step - accuracy: 0.4876 - loss: 1.6511\n",
      "Epoch 27/50\n",
      "192/192 - 1s - 3ms/step - accuracy: 0.4892 - loss: 1.6513\n",
      "Epoch 28/50\n",
      "192/192 - 1s - 3ms/step - accuracy: 0.4969 - loss: 1.6262\n",
      "Epoch 29/50\n",
      "192/192 - 1s - 3ms/step - accuracy: 0.5026 - loss: 1.6271\n",
      "Epoch 30/50\n",
      "192/192 - 1s - 3ms/step - accuracy: 0.4933 - loss: 1.6203\n",
      "Epoch 31/50\n",
      "192/192 - 1s - 5ms/step - accuracy: 0.4982 - loss: 1.6199\n",
      "Epoch 32/50\n",
      "192/192 - 1s - 7ms/step - accuracy: 0.4987 - loss: 1.6171\n",
      "Epoch 33/50\n",
      "192/192 - 1s - 4ms/step - accuracy: 0.5065 - loss: 1.6041\n",
      "Epoch 34/50\n",
      "192/192 - 1s - 7ms/step - accuracy: 0.5085 - loss: 1.5895\n",
      "Epoch 35/50\n",
      "192/192 - 1s - 3ms/step - accuracy: 0.5007 - loss: 1.5909\n",
      "Epoch 36/50\n",
      "192/192 - 1s - 3ms/step - accuracy: 0.5068 - loss: 1.5926\n",
      "Epoch 37/50\n",
      "192/192 - 1s - 3ms/step - accuracy: 0.5114 - loss: 1.5798\n",
      "Epoch 38/50\n",
      "192/192 - 1s - 3ms/step - accuracy: 0.5005 - loss: 1.5914\n",
      "Epoch 39/50\n",
      "192/192 - 1s - 4ms/step - accuracy: 0.5085 - loss: 1.5733\n",
      "Epoch 40/50\n",
      "192/192 - 1s - 3ms/step - accuracy: 0.5054 - loss: 1.5713\n",
      "Epoch 41/50\n",
      "192/192 - 1s - 3ms/step - accuracy: 0.5111 - loss: 1.5598\n",
      "Epoch 42/50\n",
      "192/192 - 1s - 3ms/step - accuracy: 0.5121 - loss: 1.5649\n",
      "Epoch 43/50\n",
      "192/192 - 1s - 3ms/step - accuracy: 0.5098 - loss: 1.5480\n",
      "Epoch 44/50\n",
      "192/192 - 1s - 3ms/step - accuracy: 0.5135 - loss: 1.5511\n",
      "Epoch 45/50\n",
      "192/192 - 1s - 3ms/step - accuracy: 0.5106 - loss: 1.5552\n",
      "Epoch 46/50\n",
      "192/192 - 1s - 3ms/step - accuracy: 0.5126 - loss: 1.5477\n",
      "Epoch 47/50\n",
      "192/192 - 1s - 3ms/step - accuracy: 0.5157 - loss: 1.5297\n",
      "Epoch 48/50\n",
      "192/192 - 1s - 3ms/step - accuracy: 0.5161 - loss: 1.5259\n",
      "Epoch 49/50\n",
      "192/192 - 1s - 3ms/step - accuracy: 0.5183 - loss: 1.5357\n",
      "Epoch 50/50\n",
      "192/192 - 1s - 3ms/step - accuracy: 0.5181 - loss: 1.5353\n"
     ]
    },
    {
     "data": {
      "text/plain": [
       "<keras.src.callbacks.history.History at 0x19fd809a940>"
      ]
     },
     "execution_count": 126,
     "metadata": {},
     "output_type": "execute_result"
    }
   ],
   "source": [
    "model.fit(X_train, y_train, epochs=50, batch_size=32, verbose=2)\n"
   ]
  },
  {
   "cell_type": "code",
   "execution_count": 127,
   "id": "494a14b2",
   "metadata": {},
   "outputs": [
    {
     "name": "stdout",
     "output_type": "stream",
     "text": [
      "\u001b[1m1726/1726\u001b[0m \u001b[32m━━━━━━━━━━━━━━━━━━━━\u001b[0m\u001b[37m\u001b[0m \u001b[1m5s\u001b[0m 3ms/step\n"
     ]
    }
   ],
   "source": [
    "# Existing code up to making predictions on the test set\n",
    "unlabeled_data = X_test\n",
    "predictions = model.predict(unlabeled_data)\n",
    "predicted_labels = np.argmax(predictions, axis=1)\n",
    "confidence_scores = np.max(predictions, axis=1)\n",
    "\n"
   ]
  },
  {
   "cell_type": "code",
   "execution_count": 128,
   "id": "afa34644",
   "metadata": {},
   "outputs": [],
   "source": [
    "\n",
    "confidence_threshold = 0.9  \n",
    "\n",
    "# high-confidence predictions\n",
    "high_confidence_indices = np.where(confidence_scores >= confidence_threshold)[0]\n",
    "\n",
    "# Extract\n",
    "X_pseudo_labeled = X_test[high_confidence_indices]\n",
    "y_pseudo_labeled = predicted_labels[high_confidence_indices]\n",
    "\n",
    "# Convert to one-hot encoding\n",
    "y_pseudo_labeled_one_hot = to_categorical(y_pseudo_labeled, num_classes=num_classes)\n",
    "\n",
    "# Combine the high-confidence pseudo-labeled data with the original training data\n",
    "X_train_combined = np.vstack((X_train, X_pseudo_labeled))\n",
    "y_train_combined = np.vstack((y_train, y_pseudo_labeled_one_hot))\n"
   ]
  },
  {
   "cell_type": "code",
   "execution_count": 131,
   "id": "9c401c53",
   "metadata": {},
   "outputs": [
    {
     "name": "stdout",
     "output_type": "stream",
     "text": [
      "Epoch 1/75\n",
      "322/322 - 1s - 3ms/step - accuracy: 0.7543 - loss: 0.7527\n",
      "Epoch 2/75\n",
      "322/322 - 1s - 4ms/step - accuracy: 0.7559 - loss: 0.7561\n",
      "Epoch 3/75\n",
      "322/322 - 1s - 3ms/step - accuracy: 0.7562 - loss: 0.7522\n",
      "Epoch 4/75\n",
      "322/322 - 1s - 3ms/step - accuracy: 0.7547 - loss: 0.7457\n",
      "Epoch 5/75\n",
      "322/322 - 1s - 3ms/step - accuracy: 0.7562 - loss: 0.7361\n",
      "Epoch 6/75\n",
      "322/322 - 1s - 4ms/step - accuracy: 0.7572 - loss: 0.7542\n",
      "Epoch 7/75\n",
      "322/322 - 1s - 3ms/step - accuracy: 0.7563 - loss: 0.7396\n",
      "Epoch 8/75\n",
      "322/322 - 1s - 3ms/step - accuracy: 0.7554 - loss: 0.7390\n",
      "Epoch 9/75\n",
      "322/322 - 1s - 3ms/step - accuracy: 0.7564 - loss: 0.7436\n",
      "Epoch 10/75\n",
      "322/322 - 1s - 3ms/step - accuracy: 0.7592 - loss: 0.7454\n",
      "Epoch 11/75\n",
      "322/322 - 1s - 3ms/step - accuracy: 0.7597 - loss: 0.7326\n",
      "Epoch 12/75\n",
      "322/322 - 1s - 3ms/step - accuracy: 0.7592 - loss: 0.7434\n",
      "Epoch 13/75\n",
      "322/322 - 1s - 3ms/step - accuracy: 0.7569 - loss: 0.7342\n",
      "Epoch 14/75\n",
      "322/322 - 1s - 3ms/step - accuracy: 0.7593 - loss: 0.7357\n",
      "Epoch 15/75\n",
      "322/322 - 1s - 3ms/step - accuracy: 0.7585 - loss: 0.7326\n",
      "Epoch 16/75\n",
      "322/322 - 1s - 3ms/step - accuracy: 0.7631 - loss: 0.7306\n",
      "Epoch 17/75\n",
      "322/322 - 1s - 3ms/step - accuracy: 0.7607 - loss: 0.7322\n",
      "Epoch 18/75\n",
      "322/322 - 1s - 4ms/step - accuracy: 0.7604 - loss: 0.7308\n",
      "Epoch 19/75\n",
      "322/322 - 1s - 4ms/step - accuracy: 0.7584 - loss: 0.7327\n",
      "Epoch 20/75\n",
      "322/322 - 1s - 3ms/step - accuracy: 0.7602 - loss: 0.7294\n",
      "Epoch 21/75\n",
      "322/322 - 1s - 3ms/step - accuracy: 0.7575 - loss: 0.7261\n",
      "Epoch 22/75\n",
      "322/322 - 1s - 3ms/step - accuracy: 0.7602 - loss: 0.7355\n",
      "Epoch 23/75\n",
      "322/322 - 1s - 3ms/step - accuracy: 0.7660 - loss: 0.7245\n",
      "Epoch 24/75\n",
      "322/322 - 1s - 3ms/step - accuracy: 0.7613 - loss: 0.7374\n",
      "Epoch 25/75\n",
      "322/322 - 1s - 3ms/step - accuracy: 0.7605 - loss: 0.7203\n",
      "Epoch 26/75\n",
      "322/322 - 1s - 3ms/step - accuracy: 0.7645 - loss: 0.7185\n",
      "Epoch 27/75\n",
      "322/322 - 1s - 3ms/step - accuracy: 0.7682 - loss: 0.7161\n",
      "Epoch 28/75\n",
      "322/322 - 1s - 3ms/step - accuracy: 0.7678 - loss: 0.7067\n",
      "Epoch 29/75\n",
      "322/322 - 1s - 3ms/step - accuracy: 0.7578 - loss: 0.7304\n",
      "Epoch 30/75\n",
      "322/322 - 1s - 3ms/step - accuracy: 0.7646 - loss: 0.7163\n",
      "Epoch 31/75\n",
      "322/322 - 1s - 3ms/step - accuracy: 0.7699 - loss: 0.7130\n",
      "Epoch 32/75\n",
      "322/322 - 1s - 3ms/step - accuracy: 0.7656 - loss: 0.7072\n",
      "Epoch 33/75\n",
      "322/322 - 1s - 3ms/step - accuracy: 0.7678 - loss: 0.7159\n",
      "Epoch 34/75\n",
      "322/322 - 1s - 3ms/step - accuracy: 0.7644 - loss: 0.7138\n",
      "Epoch 35/75\n",
      "322/322 - 1s - 3ms/step - accuracy: 0.7687 - loss: 0.7105\n",
      "Epoch 36/75\n",
      "322/322 - 1s - 3ms/step - accuracy: 0.7662 - loss: 0.7110\n",
      "Epoch 37/75\n",
      "322/322 - 1s - 3ms/step - accuracy: 0.7667 - loss: 0.7094\n",
      "Epoch 38/75\n",
      "322/322 - 1s - 3ms/step - accuracy: 0.7668 - loss: 0.7046\n",
      "Epoch 39/75\n",
      "322/322 - 1s - 3ms/step - accuracy: 0.7635 - loss: 0.7009\n",
      "Epoch 40/75\n",
      "322/322 - 1s - 3ms/step - accuracy: 0.7674 - loss: 0.7103\n",
      "Epoch 41/75\n",
      "322/322 - 1s - 3ms/step - accuracy: 0.7706 - loss: 0.7049\n",
      "Epoch 42/75\n",
      "322/322 - 1s - 3ms/step - accuracy: 0.7686 - loss: 0.7040\n",
      "Epoch 43/75\n",
      "322/322 - 1s - 3ms/step - accuracy: 0.7714 - loss: 0.7041\n",
      "Epoch 44/75\n",
      "322/322 - 1s - 3ms/step - accuracy: 0.7625 - loss: 0.7032\n",
      "Epoch 45/75\n",
      "322/322 - 1s - 3ms/step - accuracy: 0.7629 - loss: 0.7093\n",
      "Epoch 46/75\n",
      "322/322 - 1s - 3ms/step - accuracy: 0.7690 - loss: 0.7100\n",
      "Epoch 47/75\n",
      "322/322 - 1s - 3ms/step - accuracy: 0.7736 - loss: 0.6902\n",
      "Epoch 48/75\n",
      "322/322 - 1s - 3ms/step - accuracy: 0.7695 - loss: 0.6993\n",
      "Epoch 49/75\n",
      "322/322 - 1s - 3ms/step - accuracy: 0.7678 - loss: 0.7001\n",
      "Epoch 50/75\n",
      "322/322 - 1s - 3ms/step - accuracy: 0.7656 - loss: 0.6998\n",
      "Epoch 51/75\n",
      "322/322 - 1s - 3ms/step - accuracy: 0.7730 - loss: 0.6924\n",
      "Epoch 52/75\n",
      "322/322 - 1s - 3ms/step - accuracy: 0.7680 - loss: 0.6944\n",
      "Epoch 53/75\n",
      "322/322 - 1s - 3ms/step - accuracy: 0.7689 - loss: 0.7003\n",
      "Epoch 54/75\n",
      "322/322 - 1s - 3ms/step - accuracy: 0.7703 - loss: 0.6951\n",
      "Epoch 55/75\n",
      "322/322 - 1s - 4ms/step - accuracy: 0.7699 - loss: 0.6943\n",
      "Epoch 56/75\n",
      "322/322 - 1s - 3ms/step - accuracy: 0.7765 - loss: 0.6829\n",
      "Epoch 57/75\n",
      "322/322 - 1s - 3ms/step - accuracy: 0.7706 - loss: 0.6903\n",
      "Epoch 58/75\n",
      "322/322 - 1s - 3ms/step - accuracy: 0.7735 - loss: 0.6903\n",
      "Epoch 59/75\n",
      "322/322 - 1s - 3ms/step - accuracy: 0.7727 - loss: 0.6850\n",
      "Epoch 60/75\n",
      "322/322 - 1s - 3ms/step - accuracy: 0.7723 - loss: 0.6889\n",
      "Epoch 61/75\n",
      "322/322 - 1s - 3ms/step - accuracy: 0.7754 - loss: 0.6853\n",
      "Epoch 62/75\n",
      "322/322 - 1s - 3ms/step - accuracy: 0.7782 - loss: 0.6754\n",
      "Epoch 63/75\n",
      "322/322 - 1s - 3ms/step - accuracy: 0.7743 - loss: 0.6784\n",
      "Epoch 64/75\n",
      "322/322 - 1s - 4ms/step - accuracy: 0.7749 - loss: 0.6867\n",
      "Epoch 65/75\n",
      "322/322 - 1s - 3ms/step - accuracy: 0.7780 - loss: 0.6748\n",
      "Epoch 66/75\n",
      "322/322 - 1s - 3ms/step - accuracy: 0.7772 - loss: 0.6790\n",
      "Epoch 67/75\n",
      "322/322 - 1s - 3ms/step - accuracy: 0.7748 - loss: 0.6749\n",
      "Epoch 68/75\n",
      "322/322 - 1s - 3ms/step - accuracy: 0.7708 - loss: 0.6937\n",
      "Epoch 69/75\n",
      "322/322 - 1s - 3ms/step - accuracy: 0.7721 - loss: 0.6780\n",
      "Epoch 70/75\n",
      "322/322 - 1s - 4ms/step - accuracy: 0.7742 - loss: 0.6774\n",
      "Epoch 71/75\n",
      "322/322 - 1s - 3ms/step - accuracy: 0.7800 - loss: 0.6729\n",
      "Epoch 72/75\n",
      "322/322 - 1s - 4ms/step - accuracy: 0.7785 - loss: 0.6683\n",
      "Epoch 73/75\n",
      "322/322 - 1s - 3ms/step - accuracy: 0.7729 - loss: 0.6754\n",
      "Epoch 74/75\n",
      "322/322 - 1s - 3ms/step - accuracy: 0.7683 - loss: 0.6784\n",
      "Epoch 75/75\n",
      "322/322 - 1s - 3ms/step - accuracy: 0.7756 - loss: 0.6793\n"
     ]
    },
    {
     "data": {
      "text/plain": [
       "<keras.src.callbacks.history.History at 0x19fd81235e0>"
      ]
     },
     "execution_count": 131,
     "metadata": {},
     "output_type": "execute_result"
    }
   ],
   "source": [
    "model.fit(X_train_combined, y_train_combined, epochs=75, batch_size=32, verbose=2,validation_split=0.1)\n"
   ]
  },
  {
   "cell_type": "code",
   "execution_count": 132,
   "id": "e5948f90",
   "metadata": {},
   "outputs": [
    {
     "name": "stdout",
     "output_type": "stream",
     "text": [
      "\u001b[1m1726/1726\u001b[0m \u001b[32m━━━━━━━━━━━━━━━━━━━━\u001b[0m\u001b[37m\u001b[0m \u001b[1m6s\u001b[0m 3ms/step\n"
     ]
    }
   ],
   "source": [
    "# Re-evaluate the model\n",
    "predictions_combined = model.predict(X_test)\n",
    "predicted_labels_combined = np.argmax(predictions_combined, axis=1)\n",
    "confidence_scores_combined = np.max(predictions_combined, axis=1)\n"
   ]
  },
  {
   "cell_type": "code",
   "execution_count": 137,
   "id": "cd2544f1",
   "metadata": {},
   "outputs": [],
   "source": [
    "y_test_rf = np.argmax(y_test, axis=1)  # Convert one-hot labels to single class integers for evaluation\n"
   ]
  },
  {
   "cell_type": "code",
   "execution_count": 138,
   "id": "b1276c4d",
   "metadata": {},
   "outputs": [
    {
     "name": "stdout",
     "output_type": "stream",
     "text": [
      "LSTM Model with Pseudo-Labeling Accuracy: 0.43343294394639137\n"
     ]
    }
   ],
   "source": [
    "accuracy_combined = accuracy_score(y_test_rf, predicted_labels_combined)\n",
    "print(f'LSTM Model with Pseudo-Labeling Accuracy: {accuracy_combined}')\n"
   ]
  },
  {
   "cell_type": "code",
   "execution_count": 134,
   "id": "37ae93bf",
   "metadata": {},
   "outputs": [
    {
     "name": "stdout",
     "output_type": "stream",
     "text": [
      "Confusion Matrix\n",
      "[[  43    8    0 ...    2    0    0]\n",
      " [   2 1203    0 ...    4    0    0]\n",
      " [   0    0    0 ...    0    0    0]\n",
      " ...\n",
      " [   0    1    0 ...    1    0    0]\n",
      " [   0    0    0 ...    0    0    0]\n",
      " [   0    0    0 ...    0    0    0]]\n"
     ]
    }
   ],
   "source": [
    "print('Confusion Matrix')\n",
    "print(confusion_matrix(y_test_rf, predicted_labels_combined))"
   ]
  },
  {
   "cell_type": "code",
   "execution_count": 136,
   "id": "dc0e487b",
   "metadata": {},
   "outputs": [
    {
     "name": "stdout",
     "output_type": "stream",
     "text": [
      "Classification Report\n",
      "              precision    recall  f1-score   support\n",
      "\n",
      "           0       0.22      0.11      0.15       378\n",
      "           1       0.32      0.28      0.30      4360\n",
      "           2       0.00      0.00      0.00         6\n",
      "           3       0.20      0.08      0.11      1655\n",
      "           4       0.14      0.07      0.10        14\n",
      "           5       1.00      0.02      0.04       101\n",
      "           6       0.15      0.06      0.09       173\n",
      "           7       0.22      0.10      0.13      1582\n",
      "           8       0.04      0.01      0.01       152\n",
      "           9       0.00      0.00      0.00         6\n",
      "          10       0.20      0.02      0.03       116\n",
      "          11       0.42      0.34      0.37      2164\n",
      "          12       0.52      0.68      0.59     18971\n",
      "          13       0.00      0.00      0.00         4\n",
      "          14       0.25      0.16      0.19       582\n",
      "          15       0.27      0.09      0.14      1369\n",
      "          16       0.26      0.09      0.13       213\n",
      "          17       0.32      0.13      0.18       133\n",
      "          18       0.63      0.35      0.45       237\n",
      "          19       0.32      0.14      0.19       475\n",
      "          20       1.00      0.25      0.40         8\n",
      "          21       0.00      0.00      0.00         6\n",
      "          22       0.32      0.16      0.21       277\n",
      "          23       0.59      0.40      0.48       596\n",
      "          24       0.33      0.07      0.11        30\n",
      "          25       0.25      0.17      0.20       580\n",
      "          26       0.00      0.00      0.00        13\n",
      "          27       0.29      0.10      0.15       251\n",
      "          28       0.23      0.07      0.10       390\n",
      "          29       0.32      0.30      0.31      3957\n",
      "          30       0.00      0.00      0.00        22\n",
      "          31       0.30      0.27      0.28        75\n",
      "          32       0.18      0.13      0.15       441\n",
      "          33       0.00      0.00      0.00         9\n",
      "          34       0.39      0.21      0.27       115\n",
      "          35       1.00      0.04      0.08        25\n",
      "          36       0.00      0.00      0.00         9\n",
      "          37       0.45      0.43      0.44       173\n",
      "          38       0.14      0.06      0.09       922\n",
      "          39       0.50      0.15      0.23        27\n",
      "          40       0.07      0.01      0.01       179\n",
      "          41       0.24      0.13      0.17       714\n",
      "          42       0.00      0.00      0.00         1\n",
      "          43       0.00      0.00      0.00        12\n",
      "          44       0.00      0.00      0.00         1\n",
      "          45       0.00      0.00      0.00        23\n",
      "          46       1.00      0.08      0.14        13\n",
      "          47       0.00      0.00      0.00         2\n",
      "          48       0.32      0.05      0.09       226\n",
      "          49       0.23      0.19      0.21       941\n",
      "          50       0.00      0.00      0.00        23\n",
      "          51       0.20      0.02      0.04        44\n",
      "          52       0.00      0.00      0.00        21\n",
      "          53       0.00      0.00      0.00         1\n",
      "          54       1.00      0.02      0.04        44\n",
      "          55       0.42      0.60      0.50      9972\n",
      "          56       0.22      0.11      0.15       233\n",
      "          57       0.15      0.05      0.08      1385\n",
      "          58       0.00      0.00      0.00         5\n",
      "          59       0.50      0.20      0.28        81\n",
      "          60       0.36      0.12      0.18       343\n",
      "          61       0.00      0.00      0.00         8\n",
      "          62       0.35      0.24      0.28        38\n",
      "          63       0.00      0.00      0.00         1\n",
      "          64       0.30      0.06      0.10       137\n",
      "          65       0.00      0.00      0.00         9\n",
      "          66       0.00      0.00      0.00         3\n",
      "          67       0.03      0.01      0.01       107\n",
      "          68       0.00      0.00      0.00        23\n",
      "          69       0.00      0.00      0.00         8\n",
      "\n",
      "    accuracy                           0.43     55215\n",
      "   macro avg       0.25      0.11      0.13     55215\n",
      "weighted avg       0.39      0.43      0.40     55215\n",
      "\n"
     ]
    },
    {
     "name": "stderr",
     "output_type": "stream",
     "text": [
      "C:\\Users\\Shahbaz\\anaconda3\\lib\\site-packages\\sklearn\\metrics\\_classification.py:1318: UndefinedMetricWarning: Precision and F-score are ill-defined and being set to 0.0 in labels with no predicted samples. Use `zero_division` parameter to control this behavior.\n",
      "  _warn_prf(average, modifier, msg_start, len(result))\n",
      "C:\\Users\\Shahbaz\\anaconda3\\lib\\site-packages\\sklearn\\metrics\\_classification.py:1318: UndefinedMetricWarning: Precision and F-score are ill-defined and being set to 0.0 in labels with no predicted samples. Use `zero_division` parameter to control this behavior.\n",
      "  _warn_prf(average, modifier, msg_start, len(result))\n",
      "C:\\Users\\Shahbaz\\anaconda3\\lib\\site-packages\\sklearn\\metrics\\_classification.py:1318: UndefinedMetricWarning: Precision and F-score are ill-defined and being set to 0.0 in labels with no predicted samples. Use `zero_division` parameter to control this behavior.\n",
      "  _warn_prf(average, modifier, msg_start, len(result))\n"
     ]
    }
   ],
   "source": [
    "print('Classification Report')\n",
    "print(classification_report(y_test_rf, predicted_labels_combined))"
   ]
  },
  {
   "cell_type": "code",
   "execution_count": null,
   "id": "89f47522",
   "metadata": {},
   "outputs": [],
   "source": [
    "import seaborn as sns\n",
    "\n",
    "# Train the model initially\n",
    "history = model.fit(X_train, y_train, epochs=15, batch_size=32, verbose=2, validation_split=0.1)\n",
    "\n",
    "# Plot training & validation accuracy values\n",
    "plt.figure(figsize=(12, 6))\n",
    "plt.subplot(1, 2, 1)\n",
    "plt.plot(history.history['accuracy'])\n",
    "plt.plot(history.history['val_accuracy'])\n",
    "plt.title('Model accuracy')\n",
    "plt.ylabel('Accuracy')\n",
    "plt.xlabel('Epoch')\n",
    "plt.legend(['Train', 'Validation'], loc='upper left')\n",
    "\n",
    "# Plot training & validation loss values\n",
    "plt.subplot(1, 2, 2)\n",
    "plt.plot(history.history['loss'])\n",
    "plt.plot(history.history['val_loss'])\n",
    "plt.title('Model loss')\n",
    "plt.ylabel('Loss')\n",
    "plt.xlabel('Epoch')\n",
    "plt.legend(['Train', 'Validation'], loc='upper left')\n",
    "plt.show()\n",
    "\n",
    "# Evaluate the model before pseudo-labeling\n",
    "predictions = model.predict(X_test)\n",
    "predicted_labels = np.argmax(predictions, axis=1)\n",
    "\n",
    "# Confusion Matrix\n",
    "cm = confusion_matrix(np.argmax(y_test, axis=1), predicted_labels)\n",
    "plt.figure(figsize=(10, 8))\n",
    "sns.heatmap(cm, annot=True, fmt='d', cmap='Blues')\n",
    "plt.title('Confusion Matrix Before Pseudo-Labeling')\n",
    "plt.xlabel('Predicted')\n",
    "plt.ylabel('True')\n",
    "plt.show()\n",
    "\n",
    "# Classification Report\n",
    "print('Classification Report Before Pseudo-Labeling')\n",
    "print(classification_report(np.argmax(y_test, axis=1), predicted_labels))"
   ]
  },
  {
   "cell_type": "code",
   "execution_count": null,
   "id": "058b4343",
   "metadata": {},
   "outputs": [],
   "source": [
    "history_combined = model.fit(X_train_combined, y_train_combined, epochs=15, batch_size=32, verbose=2, validation_split=0.1)\n",
    "\n",
    "# Plot training & validation accuracy values after pseudo-labeling\n",
    "plt.figure(figsize=(12, 6))\n",
    "plt.subplot(1, 2, 1)\n",
    "plt.plot(history_combined.history['accuracy'])\n",
    "plt.plot(history_combined.history['val_accuracy'])\n",
    "plt.title('Model accuracy after Pseudo-Labeling')\n",
    "plt.ylabel('Accuracy')\n",
    "plt.xlabel('Epoch')\n",
    "plt.legend(['Train', 'Validation'], loc='upper left')\n",
    "\n",
    "# Plot training & validation loss values after pseudo-labeling\n",
    "plt.subplot(1, 2, 2)\n",
    "plt.plot(history_combined.history['loss'])\n",
    "plt.plot(history_combined.history['val_loss'])\n",
    "plt.title('Model loss after Pseudo-Labeling')\n",
    "plt.ylabel('Loss')\n",
    "plt.xlabel('Epoch')\n",
    "plt.legend(['Train', 'Validation'], loc='upper left')\n",
    "plt.show()\n",
    "\n",
    "# Evaluate the model after pseudo-labeling\n",
    "predictions_combined = model.predict(X_test)\n",
    "predicted_labels_combined = np.argmax(predictions_combined, axis=1)\n",
    "\n",
    "# Confusion Matrix after pseudo-labeling\n",
    "cm_combined = confusion_matrix(np.argmax(y_test, axis=1), predicted_labels_combined)\n",
    "plt.figure(figsize=(10, 8))\n",
    "sns.heatmap(cm_combined, annot=True, fmt='d', cmap='Blues')\n",
    "plt.title('Confusion Matrix After Pseudo-Labeling')\n",
    "plt.xlabel('Predicted')\n",
    "plt.ylabel('True')\n",
    "plt.show()\n",
    "\n",
    "# Classification Report after pseudo-labeling\n",
    "print('Classification Report After Pseudo-Labeling')\n",
    "print(classification_report(np.argmax(y_test, axis=1), predicted_labels_combined))"
   ]
  }
 ],
 "metadata": {
  "kernelspec": {
   "display_name": "Python 3 (ipykernel)",
   "language": "python",
   "name": "python3"
  },
  "language_info": {
   "codemirror_mode": {
    "name": "ipython",
    "version": 3
   },
   "file_extension": ".py",
   "mimetype": "text/x-python",
   "name": "python",
   "nbconvert_exporter": "python",
   "pygments_lexer": "ipython3",
   "version": "3.9.12"
  }
 },
 "nbformat": 4,
 "nbformat_minor": 5
}
